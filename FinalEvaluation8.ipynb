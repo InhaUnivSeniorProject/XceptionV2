{
  "nbformat": 4,
  "nbformat_minor": 0,
  "metadata": {
    "colab": {
      "provenance": [],
      "machine_shape": "hm",
      "authorship_tag": "ABX9TyPSYhw15qN35Ho5CLnyfpAT",
      "include_colab_link": true
    },
    "kernelspec": {
      "name": "python3",
      "display_name": "Python 3"
    },
    "language_info": {
      "name": "python"
    },
    "accelerator": "GPU",
    "gpuClass": "standard"
  },
  "cells": [
    {
      "cell_type": "markdown",
      "metadata": {
        "id": "view-in-github",
        "colab_type": "text"
      },
      "source": [
        "<a href=\"https://colab.research.google.com/github/simjeongho/XceptionV2/blob/Evaluation/FinalEvaluation8.ipynb\" target=\"_parent\"><img src=\"https://colab.research.google.com/assets/colab-badge.svg\" alt=\"Open In Colab\"/></a>"
      ]
    },
    {
      "cell_type": "code",
      "execution_count": 1,
      "metadata": {
        "colab": {
          "base_uri": "https://localhost:8080/"
        },
        "id": "TiT6pzQVEQb7",
        "outputId": "99a92c78-469b-455a-e1db-852abe949aa5"
      },
      "outputs": [
        {
          "output_type": "stream",
          "name": "stdout",
          "text": [
            "Mounted at /content/drive\n"
          ]
        }
      ],
      "source": [
        "from google.colab import drive\n",
        "\n",
        "drive.mount('/content/drive')"
      ]
    },
    {
      "cell_type": "code",
      "source": [
        "import numpy as np # linear algebra\n",
        "import pandas as pd # data processing, CSV file I/O (e.g. pd.read_csv)\n",
        "import os\n",
        "\n",
        "def make_atopy_dataframe():\n",
        "    paths = []\n",
        "    dataset_gubuns = []\n",
        "    gan_gubuns = []\n",
        "    label_gubuns = []\n",
        "    # os.walk()를 이용하여 특정 디렉토리 밑에 있는 모든 하위 디렉토리를 모두 조사. \n",
        "    # atopy-1 하위 디렉토리 밑에 jpg 확장자를 가진 파일이 모두 이미지 파일임\n",
        "    # atopy-1 밑으로 /train/, /val/ 하위 디렉토리 존재(학습, 테스트 용 이미지 파일들을 가짐)\n",
        "\n",
        "    for dirname, _, filenames in os.walk('/content/drive/MyDrive/IncludeAtopyGanData6464TrainVal'):\n",
        "        for filename in filenames:\n",
        "            # 이미지 파일이 아닌 파일도 해당 디렉토리에 있음.\n",
        "            if '.jpg' in filename:\n",
        "                # 파일의 절대 경로를 file_path 변수에 할당. \n",
        "                file_path = dirname+'/'+ filename\n",
        "                paths.append(file_path)\n",
        "                # 파일의 절대 경로에 train, val가 포함되어 있으면 데이터 세트 구분을 'train'과 'test'로 분류. \n",
        "                if 'my' in filename:\n",
        "                    gan_gubuns.append('gan')\n",
        "                elif 'generated' in filename:\n",
        "                    gan_gubuns.append('gan')\n",
        "                elif 'K-' in filename:\n",
        "                    gan_gubuns.append('original')\n",
        "                else: gan_gubuns.append('N/A')\n",
        "                if '/train/' in file_path:\n",
        "                    dataset_gubuns.append('train')  \n",
        "                elif '/test/' in file_path:\n",
        "                    dataset_gubuns.append('test')\n",
        "                else: dataset_gubuns.append('N/A')\n",
        "\n",
        "                # 파일의 절대 경로에 li가 있을 경우 해당 파일은 태선화 이미지 파일이고, red일 경우는 홍진 이미지 파일임 scratch는 긁은 상처  \n",
        "                if 'li1' in file_path:\n",
        "                    label_gubuns.append('li1')\n",
        "                elif 'li2' in file_path:\n",
        "                    label_gubuns.append('li2')\n",
        "                elif 'li3' in file_path:\n",
        "                    label_gubuns.append('li3')\n",
        "                elif 'red1' in file_path:\n",
        "                    label_gubuns.append('red1')\n",
        "                elif 'red2' in file_path:\n",
        "                    label_gubuns.append('red2')\n",
        "                elif 'red3' in file_path:\n",
        "                    label_gubuns.append('red3')\n",
        "                elif 'scratch1' in file_path:\n",
        "                    label_gubuns.append('scratch1')\n",
        "                elif 'scratch2' in file_path:\n",
        "                    label_gubuns.append('scratch2')\n",
        "                elif 'scratch3' in file_path:\n",
        "                    label_gubuns.append('scratch3')\n",
        "                else: label_gubuns.append('N/A')\n",
        "    \n",
        "    data_df = pd.DataFrame({'path':paths, 'dataset':dataset_gubuns, 'label':label_gubuns, 'gan': gan_gubuns})\n",
        "    return data_df"
      ],
      "metadata": {
        "id": "Bfj6z3gHEZhX"
      },
      "execution_count": 2,
      "outputs": []
    },
    {
      "cell_type": "code",
      "source": [
        "pd.set_option('display.max_colwidth', 200)\n",
        "data_df = make_atopy_dataframe()\n",
        "print('data_df shape:', data_df.shape)\n",
        "data_df.head()"
      ],
      "metadata": {
        "colab": {
          "base_uri": "https://localhost:8080/",
          "height": 224
        },
        "id": "Dib0uDAyEZjh",
        "outputId": "1e9b006e-0861-4dc0-e5cd-d062973e53f5"
      },
      "execution_count": 3,
      "outputs": [
        {
          "output_type": "stream",
          "name": "stdout",
          "text": [
            "data_df shape: (16911, 4)\n"
          ]
        },
        {
          "output_type": "execute_result",
          "data": {
            "text/plain": [
              "                                                                                             path  \\\n",
              "0  /content/drive/MyDrive/IncludeAtopyGanData6464TrainVal/train/scratch3/generatedScratch3897.jpg   \n",
              "1  /content/drive/MyDrive/IncludeAtopyGanData6464TrainVal/train/scratch3/generatedScratch3908.jpg   \n",
              "2  /content/drive/MyDrive/IncludeAtopyGanData6464TrainVal/train/scratch3/generatedScratch3895.jpg   \n",
              "3  /content/drive/MyDrive/IncludeAtopyGanData6464TrainVal/train/scratch3/generatedScratch3859.jpg   \n",
              "4  /content/drive/MyDrive/IncludeAtopyGanData6464TrainVal/train/scratch3/generatedScratch3874.jpg   \n",
              "\n",
              "  dataset     label  gan  \n",
              "0   train  scratch3  gan  \n",
              "1   train  scratch3  gan  \n",
              "2   train  scratch3  gan  \n",
              "3   train  scratch3  gan  \n",
              "4   train  scratch3  gan  "
            ],
            "text/html": [
              "\n",
              "  <div id=\"df-e78c89fb-5460-4321-a2f9-3549f587bada\">\n",
              "    <div class=\"colab-df-container\">\n",
              "      <div>\n",
              "<style scoped>\n",
              "    .dataframe tbody tr th:only-of-type {\n",
              "        vertical-align: middle;\n",
              "    }\n",
              "\n",
              "    .dataframe tbody tr th {\n",
              "        vertical-align: top;\n",
              "    }\n",
              "\n",
              "    .dataframe thead th {\n",
              "        text-align: right;\n",
              "    }\n",
              "</style>\n",
              "<table border=\"1\" class=\"dataframe\">\n",
              "  <thead>\n",
              "    <tr style=\"text-align: right;\">\n",
              "      <th></th>\n",
              "      <th>path</th>\n",
              "      <th>dataset</th>\n",
              "      <th>label</th>\n",
              "      <th>gan</th>\n",
              "    </tr>\n",
              "  </thead>\n",
              "  <tbody>\n",
              "    <tr>\n",
              "      <th>0</th>\n",
              "      <td>/content/drive/MyDrive/IncludeAtopyGanData6464TrainVal/train/scratch3/generatedScratch3897.jpg</td>\n",
              "      <td>train</td>\n",
              "      <td>scratch3</td>\n",
              "      <td>gan</td>\n",
              "    </tr>\n",
              "    <tr>\n",
              "      <th>1</th>\n",
              "      <td>/content/drive/MyDrive/IncludeAtopyGanData6464TrainVal/train/scratch3/generatedScratch3908.jpg</td>\n",
              "      <td>train</td>\n",
              "      <td>scratch3</td>\n",
              "      <td>gan</td>\n",
              "    </tr>\n",
              "    <tr>\n",
              "      <th>2</th>\n",
              "      <td>/content/drive/MyDrive/IncludeAtopyGanData6464TrainVal/train/scratch3/generatedScratch3895.jpg</td>\n",
              "      <td>train</td>\n",
              "      <td>scratch3</td>\n",
              "      <td>gan</td>\n",
              "    </tr>\n",
              "    <tr>\n",
              "      <th>3</th>\n",
              "      <td>/content/drive/MyDrive/IncludeAtopyGanData6464TrainVal/train/scratch3/generatedScratch3859.jpg</td>\n",
              "      <td>train</td>\n",
              "      <td>scratch3</td>\n",
              "      <td>gan</td>\n",
              "    </tr>\n",
              "    <tr>\n",
              "      <th>4</th>\n",
              "      <td>/content/drive/MyDrive/IncludeAtopyGanData6464TrainVal/train/scratch3/generatedScratch3874.jpg</td>\n",
              "      <td>train</td>\n",
              "      <td>scratch3</td>\n",
              "      <td>gan</td>\n",
              "    </tr>\n",
              "  </tbody>\n",
              "</table>\n",
              "</div>\n",
              "      <button class=\"colab-df-convert\" onclick=\"convertToInteractive('df-e78c89fb-5460-4321-a2f9-3549f587bada')\"\n",
              "              title=\"Convert this dataframe to an interactive table.\"\n",
              "              style=\"display:none;\">\n",
              "        \n",
              "  <svg xmlns=\"http://www.w3.org/2000/svg\" height=\"24px\"viewBox=\"0 0 24 24\"\n",
              "       width=\"24px\">\n",
              "    <path d=\"M0 0h24v24H0V0z\" fill=\"none\"/>\n",
              "    <path d=\"M18.56 5.44l.94 2.06.94-2.06 2.06-.94-2.06-.94-.94-2.06-.94 2.06-2.06.94zm-11 1L8.5 8.5l.94-2.06 2.06-.94-2.06-.94L8.5 2.5l-.94 2.06-2.06.94zm10 10l.94 2.06.94-2.06 2.06-.94-2.06-.94-.94-2.06-.94 2.06-2.06.94z\"/><path d=\"M17.41 7.96l-1.37-1.37c-.4-.4-.92-.59-1.43-.59-.52 0-1.04.2-1.43.59L10.3 9.45l-7.72 7.72c-.78.78-.78 2.05 0 2.83L4 21.41c.39.39.9.59 1.41.59.51 0 1.02-.2 1.41-.59l7.78-7.78 2.81-2.81c.8-.78.8-2.07 0-2.86zM5.41 20L4 18.59l7.72-7.72 1.47 1.35L5.41 20z\"/>\n",
              "  </svg>\n",
              "      </button>\n",
              "      \n",
              "  <style>\n",
              "    .colab-df-container {\n",
              "      display:flex;\n",
              "      flex-wrap:wrap;\n",
              "      gap: 12px;\n",
              "    }\n",
              "\n",
              "    .colab-df-convert {\n",
              "      background-color: #E8F0FE;\n",
              "      border: none;\n",
              "      border-radius: 50%;\n",
              "      cursor: pointer;\n",
              "      display: none;\n",
              "      fill: #1967D2;\n",
              "      height: 32px;\n",
              "      padding: 0 0 0 0;\n",
              "      width: 32px;\n",
              "    }\n",
              "\n",
              "    .colab-df-convert:hover {\n",
              "      background-color: #E2EBFA;\n",
              "      box-shadow: 0px 1px 2px rgba(60, 64, 67, 0.3), 0px 1px 3px 1px rgba(60, 64, 67, 0.15);\n",
              "      fill: #174EA6;\n",
              "    }\n",
              "\n",
              "    [theme=dark] .colab-df-convert {\n",
              "      background-color: #3B4455;\n",
              "      fill: #D2E3FC;\n",
              "    }\n",
              "\n",
              "    [theme=dark] .colab-df-convert:hover {\n",
              "      background-color: #434B5C;\n",
              "      box-shadow: 0px 1px 3px 1px rgba(0, 0, 0, 0.15);\n",
              "      filter: drop-shadow(0px 1px 2px rgba(0, 0, 0, 0.3));\n",
              "      fill: #FFFFFF;\n",
              "    }\n",
              "  </style>\n",
              "\n",
              "      <script>\n",
              "        const buttonEl =\n",
              "          document.querySelector('#df-e78c89fb-5460-4321-a2f9-3549f587bada button.colab-df-convert');\n",
              "        buttonEl.style.display =\n",
              "          google.colab.kernel.accessAllowed ? 'block' : 'none';\n",
              "\n",
              "        async function convertToInteractive(key) {\n",
              "          const element = document.querySelector('#df-e78c89fb-5460-4321-a2f9-3549f587bada');\n",
              "          const dataTable =\n",
              "            await google.colab.kernel.invokeFunction('convertToInteractive',\n",
              "                                                     [key], {});\n",
              "          if (!dataTable) return;\n",
              "\n",
              "          const docLinkHtml = 'Like what you see? Visit the ' +\n",
              "            '<a target=\"_blank\" href=https://colab.research.google.com/notebooks/data_table.ipynb>data table notebook</a>'\n",
              "            + ' to learn more about interactive tables.';\n",
              "          element.innerHTML = '';\n",
              "          dataTable['output_type'] = 'display_data';\n",
              "          await google.colab.output.renderOutput(dataTable, element);\n",
              "          const docLink = document.createElement('div');\n",
              "          docLink.innerHTML = docLinkHtml;\n",
              "          element.appendChild(docLink);\n",
              "        }\n",
              "      </script>\n",
              "    </div>\n",
              "  </div>\n",
              "  "
            ]
          },
          "metadata": {},
          "execution_count": 3
        }
      ]
    },
    {
      "cell_type": "code",
      "source": [
        "import albumentations as A\n",
        "\n",
        "# 전체 데이터 세트에서 학습과 테스트용 메타 정보 DataFrame 생성. \n",
        "train_df = data_df[data_df['dataset']=='train']\n",
        "trainGan_df = train_df[train_df['gan']=='gan']\n",
        "trainOrigin_df = train_df[train_df['gan']=='original']\n",
        "test_df = data_df[data_df['dataset']=='test']\n",
        "testGan_df = test_df[test_df['gan']=='gan']\n",
        "testOrigin_df = test_df[test_df['gan']=='original']\n",
        "\n",
        "# image file의 위치가 있는 데이터와 label값을 numpy array로 변환. \n",
        "train_image_filenames = train_df['path'].values\n",
        "train_image_labels = train_df['label'].values\n",
        "\n",
        "trainGan_image_filenames = trainGan_df['path'].values\n",
        "trainGan_image_labels = trainGan_df['label'].values\n",
        "\n",
        "trainOrigin_image_filenames = trainOrigin_df['path'].values\n",
        "trainOrigin_image_labels = trainOrigin_df['label'].values\n",
        "\n",
        "test_image_filenames = test_df['path'].values\n",
        "test_image_labels = test_df['label'].values"
      ],
      "metadata": {
        "id": "EhyEsCKiEZlt"
      },
      "execution_count": 4,
      "outputs": []
    },
    {
      "cell_type": "code",
      "source": [
        "trainGan_df.shape"
      ],
      "metadata": {
        "colab": {
          "base_uri": "https://localhost:8080/"
        },
        "id": "q68hJ00iciDy",
        "outputId": "4bc68229-1805-4bf8-df60-c7fe20b25e54"
      },
      "execution_count": 5,
      "outputs": [
        {
          "output_type": "execute_result",
          "data": {
            "text/plain": [
              "(16311, 4)"
            ]
          },
          "metadata": {},
          "execution_count": 5
        }
      ]
    },
    {
      "cell_type": "code",
      "source": [
        "trainOrigin_df.shape"
      ],
      "metadata": {
        "colab": {
          "base_uri": "https://localhost:8080/"
        },
        "id": "NoL4RKhMdJY-",
        "outputId": "635c35ec-4a8c-4b98-c98e-6e625a78fe7a"
      },
      "execution_count": 6,
      "outputs": [
        {
          "output_type": "execute_result",
          "data": {
            "text/plain": [
              "(420, 4)"
            ]
          },
          "metadata": {},
          "execution_count": 6
        }
      ]
    },
    {
      "cell_type": "code",
      "source": [
        "test_df.shape"
      ],
      "metadata": {
        "colab": {
          "base_uri": "https://localhost:8080/"
        },
        "id": "LwiFCDd6bmVS",
        "outputId": "8e9be2b3-191c-41b5-f3ac-a071b836b250"
      },
      "execution_count": 7,
      "outputs": [
        {
          "output_type": "execute_result",
          "data": {
            "text/plain": [
              "(180, 4)"
            ]
          },
          "metadata": {},
          "execution_count": 7
        }
      ]
    },
    {
      "cell_type": "code",
      "source": [
        "testOrigin_df.shape"
      ],
      "metadata": {
        "colab": {
          "base_uri": "https://localhost:8080/"
        },
        "id": "banmDihOdft0",
        "outputId": "c0b680ae-556b-4573-d42d-817744c9e9bb"
      },
      "execution_count": 8,
      "outputs": [
        {
          "output_type": "execute_result",
          "data": {
            "text/plain": [
              "(180, 4)"
            ]
          },
          "metadata": {},
          "execution_count": 8
        }
      ]
    },
    {
      "cell_type": "code",
      "source": [
        "train_image_filenames.shape\n",
        "test_image_filenames.shape"
      ],
      "metadata": {
        "colab": {
          "base_uri": "https://localhost:8080/"
        },
        "id": "3DA6CLfiEZnt",
        "outputId": "862a16c2-a763-4e3c-f02a-0add8e3ca0e6"
      },
      "execution_count": 9,
      "outputs": [
        {
          "output_type": "execute_result",
          "data": {
            "text/plain": [
              "(180,)"
            ]
          },
          "metadata": {},
          "execution_count": 9
        }
      ]
    },
    {
      "cell_type": "code",
      "source": [
        "from tensorflow.keras.utils import Sequence\n",
        "import sklearn \n",
        "import cv2\n",
        "# 배치 크기와 이미지 크기를 전역 변수로 선언 \n",
        "BATCH_SIZE = 8\n",
        "IMAGE_SIZE = 64\n",
        "# 입력 인자 image_filenames, labels는 모두 numpy array로 들어옴. \n",
        "class atopyScale_Dataset(Sequence):\n",
        "    def __init__(self, image_filenames, labels, batch_size=BATCH_SIZE, augmentor=None, shuffle=False, pre_func=None):\n",
        "        '''\n",
        "        파라미터 설명\n",
        "        image_filenames: opencv로 image를 로드할 파일의 절대 경로들\n",
        "        labels: 해당 image의 label들\n",
        "        batch_size: __getitem__(self, index) 호출 시 마다 가져올 데이터 batch 건수\n",
        "        augmentor: albumentations 객체\n",
        "        shuffle: 학습 데이터의 경우 epoch 종료시마다 데이터를 섞을지 여부\n",
        "        '''\n",
        "        # 객체 생성 인자로 들어온 값을 객체 내부 변수로 할당. \n",
        "        self.image_filenames = image_filenames\n",
        "        self.labels = labels\n",
        "        self.batch_size = batch_size\n",
        "        self.augmentor = augmentor\n",
        "        # train data의 경우 \n",
        "        self.shuffle = shuffle\n",
        "        self.pre_func = pre_func\n",
        "        if self.shuffle:\n",
        "            # 객체 생성시에 한번 데이터를 섞음. \n",
        "            #self.on_epoch_end()\n",
        "            pass\n",
        "    \n",
        "    # Sequence를 상속받은 Dataset은 batch_size 단위로 입력된 데이터를 처리함. \n",
        "    # __len__()은 전체 데이터 건수가 주어졌을 때 batch_size단위로 몇번 데이터를 반환하는지 나타남\n",
        "    def __len__(self):\n",
        "        # batch_size단위로 데이터를 몇번 가져와야하는지 계산하기 위해 전체 데이터 건수를 batch_size로 나누되, 정수로 정확히 나눠지지 않을 경우 1회를 더한다. \n",
        "        return int(np.ceil(len(self.labels)/self.batch_size))\n",
        "    \n",
        "    # batch_size 단위로 image_array, label_array 데이터를 가져와서 변환한 뒤 다시 반환함\n",
        "    # 인자로 몇번째 batch 인지를 나타내는 index를 입력하면 해당 순서에 해당하는 batch_size 만큼의 데이타를 가공하여 반환\n",
        "    # batch_size 갯수만큼 변환된 image_array와 label_array 반환. \n",
        "    def __getitem__(self, index):\n",
        "        # index는 몇번째 batch인지를 나타냄. \n",
        "        # batch_size만큼 순차적으로 데이터를 가져오려면 array에서 index*self.batch_size:(index+1)*self.batch_size 만큼의 연속 데이터를 가져오면 됨\n",
        "        image_name_batch = self.image_filenames[index*self.batch_size:(index+1)*self.batch_size]\n",
        "        if self.labels is not None:\n",
        "            label_batch = self.labels[index*self.batch_size:(index+1)*self.batch_size]\n",
        "        \n",
        "        # 만일 객체 생성 인자로 albumentation으로 만든 augmentor가 주어진다면 아래와 같이 augmentor를 이용하여 image 변환\n",
        "        # albumentations은 개별 image만 변환할 수 있으므로 batch_size만큼 할당된 image_name_batch를 한 건씩 iteration하면서 변환 수행. \n",
        "        # image_batch 배열은 float32 로 설정. \n",
        "        image_batch = np.zeros((image_name_batch.shape[0], IMAGE_SIZE, IMAGE_SIZE, 3), dtype='float32')\n",
        "        \n",
        "        # batch_size에 담긴 건수만큼 iteration 하면서 opencv image load -> image augmentation 변환(augmentor가 not None일 경우)-> image_batch에 담음. \n",
        "        for image_index in range(image_name_batch.shape[0]):\n",
        "            image = cv2.cvtColor(cv2.imread(image_name_batch[image_index]), cv2.COLOR_BGR2RGB)\n",
        "            image = cv2.resize(image, (IMAGE_SIZE, IMAGE_SIZE))\n",
        "            if self.augmentor is not None:\n",
        "                image = self.augmentor(image=image)['image']\n",
        "            \n",
        "            if self.pre_func is not None:\n",
        "              image = self.pre_func(image)           \n",
        "                \n",
        "            image_batch[image_index] = image\n",
        "        \n",
        "        return image_batch, label_batch\n",
        "    \n",
        "    # epoch가 한번 수행이 완료 될 때마다 모델의 fit()에서 호출됨. \n",
        "    def on_epoch_end(self):\n",
        "        if(self.shuffle):\n",
        "            #print('epoch end')\n",
        "            # 전체 image 파일의 위치와 label를 쌍을 맞춰서 섞어준다. scikt learn의 utils.shuffle에서 해당 기능 제공\n",
        "            self.image_filenames, self.labels = sklearn.utils.shuffle(self.image_filenames, self.labels)\n",
        "        else:\n",
        "            pass"
      ],
      "metadata": {
        "id": "57fekXHwEZqA"
      },
      "execution_count": 10,
      "outputs": []
    },
    {
      "cell_type": "code",
      "source": [
        "#next(iter(cnd_ds))\n",
        "#파이썬의 next는 객체의 __next__ 메소드를 호출해준다. \n",
        "# iter는 반복을 끝낼 값을 지정하면 특정 값이 나올 때 반복을 끝낸다. 이 경우에는 반복 가능한 객체 대신 호출 가능한 객체를 넣어준다. \n",
        "atopyScale_ds = atopyScale_Dataset(train_image_filenames, train_image_labels, batch_size=BATCH_SIZE, augmentor=None, shuffle=False)\n",
        "images_batch_scale = next(iter(atopyScale_ds))[0]\n",
        "labels_batch_scale = next(iter(atopyScale_ds))[1]\n",
        "print(images_batch_scale.shape, labels_batch_scale.shape)\n",
        "print(images_batch_scale[0:2])"
      ],
      "metadata": {
        "colab": {
          "base_uri": "https://localhost:8080/"
        },
        "id": "xoHdwC04EZr8",
        "outputId": "a6c95ef8-8083-43a1-f97e-114b0d56b6f3"
      },
      "execution_count": 11,
      "outputs": [
        {
          "output_type": "stream",
          "name": "stdout",
          "text": [
            "(8, 64, 64, 3) (8,)\n",
            "[[[[242. 123.  89.]\n",
            "   [255. 150. 115.]\n",
            "   [243. 128.  97.]\n",
            "   ...\n",
            "   [247. 218. 212.]\n",
            "   [237. 207. 197.]\n",
            "   [250. 218. 207.]]\n",
            "\n",
            "  [[250. 130.  96.]\n",
            "   [255. 144. 110.]\n",
            "   [241. 127.  93.]\n",
            "   ...\n",
            "   [252. 223. 217.]\n",
            "   [243. 213. 203.]\n",
            "   [255. 223. 212.]]\n",
            "\n",
            "  [[255. 137. 103.]\n",
            "   [249. 126.  93.]\n",
            "   [226. 107.  75.]\n",
            "   ...\n",
            "   [255. 228. 220.]\n",
            "   [248. 218. 208.]\n",
            "   [255. 226. 215.]]\n",
            "\n",
            "  ...\n",
            "\n",
            "  [[193.  74.  70.]\n",
            "   [206.  89.  82.]\n",
            "   [238. 125. 111.]\n",
            "   ...\n",
            "   [233. 165. 176.]\n",
            "   [244. 176. 189.]\n",
            "   [255. 203. 217.]]\n",
            "\n",
            "  [[224. 111. 105.]\n",
            "   [244. 133. 124.]\n",
            "   [240. 132. 119.]\n",
            "   ...\n",
            "   [248. 180. 191.]\n",
            "   [255. 189. 201.]\n",
            "   [255. 210. 224.]]\n",
            "\n",
            "  [[232. 123. 116.]\n",
            "   [228. 121. 111.]\n",
            "   [236. 130. 116.]\n",
            "   ...\n",
            "   [255. 207. 217.]\n",
            "   [255. 204. 216.]\n",
            "   [255. 209. 223.]]]\n",
            "\n",
            "\n",
            " [[[255. 240. 223.]\n",
            "   [255. 238. 221.]\n",
            "   [255. 232. 216.]\n",
            "   ...\n",
            "   [246. 106.  93.]\n",
            "   [246. 103.  89.]\n",
            "   [254. 111.  97.]]\n",
            "\n",
            "  [[255. 234. 217.]\n",
            "   [255. 235. 216.]\n",
            "   [254. 231. 215.]\n",
            "   ...\n",
            "   [249. 109.  94.]\n",
            "   [246. 104.  90.]\n",
            "   [251. 108.  94.]]\n",
            "\n",
            "  [[251. 228. 210.]\n",
            "   [255. 230. 210.]\n",
            "   [255. 229. 212.]\n",
            "   ...\n",
            "   [251. 111.  94.]\n",
            "   [248. 107.  90.]\n",
            "   [250. 109.  92.]]\n",
            "\n",
            "  ...\n",
            "\n",
            "  [[255. 160. 131.]\n",
            "   [255. 157. 128.]\n",
            "   [255. 155. 124.]\n",
            "   ...\n",
            "   [255. 164. 145.]\n",
            "   [255. 164. 146.]\n",
            "   [254. 163. 145.]]\n",
            "\n",
            "  [[255. 160. 128.]\n",
            "   [255. 159. 127.]\n",
            "   [255. 157. 125.]\n",
            "   ...\n",
            "   [255. 165. 148.]\n",
            "   [255. 166. 149.]\n",
            "   [255. 165. 150.]]\n",
            "\n",
            "  [[250. 151. 119.]\n",
            "   [250. 151. 119.]\n",
            "   [252. 152. 120.]\n",
            "   ...\n",
            "   [255. 170. 153.]\n",
            "   [255. 171. 156.]\n",
            "   [255. 171. 156.]]]]\n"
          ]
        }
      ]
    },
    {
      "cell_type": "code",
      "source": [
        "import matplotlib.pyplot as plt\n",
        "%matplotlib inline \n",
        "\n",
        "def show_grid_images(images_batch, ncols=4, title=None):\n",
        "    figure, axs = plt.subplots(figsize=(22, 4), nrows=1, ncols=ncols)\n",
        "    for i in range(ncols):\n",
        "        # image_batch는 float형이므로 int형으로 변경하여 이미지 시각화\n",
        "        axs[i].imshow(np.array(images_batch[i], dtype='int32'))\n",
        "        axs[i].axis('off')\n",
        "        axs[i].set_title(title[i]) \n",
        "        \n",
        "show_grid_images(images_batch_scale, ncols=6, title='augmented ' + labels_batch_scale)"
      ],
      "metadata": {
        "colab": {
          "base_uri": "https://localhost:8080/",
          "height": 182
        },
        "id": "kZwIWs3rEZt9",
        "outputId": "980c024d-074a-4164-8f05-c6da754dee6d"
      },
      "execution_count": 12,
      "outputs": [
        {
          "output_type": "display_data",
          "data": {
            "text/plain": [
              "<Figure size 1584x288 with 6 Axes>"
            ],
            "image/png": "[encoded data removed]"
          },
          "metadata": {
            "needs_background": "light"
          }
        }
      ]
    },
    {
      "cell_type": "markdown",
      "source": [
        "# 데이터 셋 생성"
      ],
      "metadata": {
        "id": "20H13zNgFMdu"
      }
    },
    {
      "cell_type": "code",
      "source": [
        "from tensorflow.keras.applications.xception import preprocess_input as xcp_preprocess_input"
      ],
      "metadata": {
        "id": "Y9T89ItCEZwB"
      },
      "execution_count": 13,
      "outputs": []
    },
    {
      "cell_type": "code",
      "source": [
        "myAtopy_ds = atopyScale_Dataset(train_image_filenames, train_image_labels, batch_size=BATCH_SIZE, \n",
        "                         augmentor=None, shuffle=False, pre_func=xcp_preprocess_input)\n",
        "# images_batch_mine = next(iter(myAtopy_ds))[0]\n",
        "# labels_batch_mine = next(iter(myAtopy_ds))[1]\n",
        "# print(images_batch_mine.shape, labels_batch_mine.shape)\n",
        "# print(images_batch_mine[0:2])"
      ],
      "metadata": {
        "id": "yZkRP8l9FEKW"
      },
      "execution_count": 14,
      "outputs": []
    },
    {
      "cell_type": "code",
      "source": [
        "pd.factorize(train_df['label'])[0].shape"
      ],
      "metadata": {
        "colab": {
          "base_uri": "https://localhost:8080/"
        },
        "id": "fsfsr7qiFEMn",
        "outputId": "b7ec7781-549d-4776-9967-ab434f2a7489"
      },
      "execution_count": 15,
      "outputs": [
        {
          "output_type": "execute_result",
          "data": {
            "text/plain": [
              "(16731,)"
            ]
          },
          "metadata": {},
          "execution_count": 15
        }
      ]
    },
    {
      "cell_type": "code",
      "source": [
        "pd.factorize(train_df['label'])"
      ],
      "metadata": {
        "colab": {
          "base_uri": "https://localhost:8080/"
        },
        "id": "6H9VoLElFEOx",
        "outputId": "b5a0d1f8-1eee-47e4-d5db-ec00147c831e"
      },
      "execution_count": 16,
      "outputs": [
        {
          "output_type": "execute_result",
          "data": {
            "text/plain": [
              "(array([0, 0, 0, ..., 8, 8, 8]),\n",
              " Index(['scratch3', 'li2', 'scratch1', 'li3', 'red2', 'red3', 'li1', 'scratch2',\n",
              "        'red1'],\n",
              "       dtype='object'))"
            ]
          },
          "metadata": {},
          "execution_count": 16
        }
      ]
    },
    {
      "cell_type": "code",
      "source": [
        "pd.get_dummies(train_df['label']).values"
      ],
      "metadata": {
        "colab": {
          "base_uri": "https://localhost:8080/"
        },
        "id": "NTZWyaRWFEQm",
        "outputId": "4c54ae73-fecf-41ae-9a9e-86a25ea1e0ab"
      },
      "execution_count": 17,
      "outputs": [
        {
          "output_type": "execute_result",
          "data": {
            "text/plain": [
              "array([[0, 0, 0, ..., 0, 0, 1],\n",
              "       [0, 0, 0, ..., 0, 0, 1],\n",
              "       [0, 0, 0, ..., 0, 0, 1],\n",
              "       ...,\n",
              "       [0, 0, 0, ..., 0, 0, 0],\n",
              "       [0, 0, 0, ..., 0, 0, 0],\n",
              "       [0, 0, 0, ..., 0, 0, 0]], dtype=uint8)"
            ]
          },
          "metadata": {},
          "execution_count": 17
        }
      ]
    },
    {
      "cell_type": "code",
      "source": [
        "# 원 핫 인코딩 한다. \n",
        "labels_ohe = pd.get_dummies(train_df['label']).values\n",
        "print(labels_ohe[:5])\n",
        "\n",
        "#이건 그냥 인코딩\n",
        "labels_enc = pd.factorize(train_df['label'])[0]\n",
        "print(labels_enc[:5])\n",
        "\n",
        "print(labels_ohe.shape, labels_enc.shape)"
      ],
      "metadata": {
        "colab": {
          "base_uri": "https://localhost:8080/"
        },
        "id": "MD0lni-aFESs",
        "outputId": "27f0bfc2-4d9d-4074-80f2-a2de1e57d073"
      },
      "execution_count": 18,
      "outputs": [
        {
          "output_type": "stream",
          "name": "stdout",
          "text": [
            "[[0 0 0 0 0 0 0 0 1]\n",
            " [0 0 0 0 0 0 0 0 1]\n",
            " [0 0 0 0 0 0 0 0 1]\n",
            " [0 0 0 0 0 0 0 0 1]\n",
            " [0 0 0 0 0 0 0 0 1]]\n",
            "[0 0 0 0 0]\n",
            "(16731, 9) (16731,)\n"
          ]
        }
      ]
    },
    {
      "cell_type": "code",
      "source": [
        "from sklearn.model_selection import train_test_split\n",
        "\n",
        "# 학습 데이터와 테스트 데이터용 Dataframe 생성. \n",
        "train_df = data_df[data_df['dataset']=='train']\n",
        "trainGan_df = train_df[train_df['gan']=='gan']\n",
        "trainOrigin_df = train_df[train_df['gan']=='original']\n",
        "test_df = data_df[data_df['dataset']=='test']\n",
        "testGan_df = test_df[test_df['gan']=='gan']\n",
        "testOrigin_df = test_df[test_df['gan']=='original']\n",
        "\n",
        "# image file의 위치가 있는 데이터와 label값을 numpy array로 변환. \n",
        "train_image_filenames = train_df['path'].values\n",
        "train_image_labels = train_df['label'].values\n",
        "\n",
        "trainGan_image_filenames = trainGan_df['path'].values\n",
        "trainGan_image_labels = trainGan_df['label'].values\n",
        "\n",
        "trainOrigin_image_filenames = trainOrigin_df['path'].values\n",
        "trainOrigin_image_labels = trainOrigin_df['label'].values\n",
        "\n",
        "test_image_filenames = test_df['path'].values\n",
        "test_image_labels = test_df['label'].values\n",
        "\n",
        "# 학습 데이터의 image path와 label을 Numpy array로 변환 및 Label encoding\n",
        "train_path = train_df['path'].values\n",
        "train_label = pd.get_dummies(train_df['label']).values\n",
        "\n",
        "trainGan_path = trainGan_df['path'].values\n",
        "trainGan_label = pd.get_dummies(trainGan_df['label']).values\n",
        "\n",
        "trainOrigin_path = trainOrigin_df['path'].values\n",
        "trainOrigin_label = pd.get_dummies(trainOrigin_df['label']).values\n",
        "\n",
        "test_path = test_df['path'].values\n",
        "test_label = pd.get_dummies(test_df['label']).values\n",
        "\n",
        "trGan_path, valGan_path, trGan_label, valGan_label = train_test_split(trainGan_path, trainGan_label, test_size=0.01, random_state=2021)\n",
        "trOrigin_path, valOrigin_path, trOrigin_label, valOrigin_label = train_test_split(trainOrigin_path, trainOrigin_label, test_size=0.5, random_state=2021)\n",
        "\n",
        "print('학습용 path shape:', trGan_path.shape, '검증용 path shape:', valGan_path.shape, \n",
        "      '학습용 label shape:', trGan_label.shape, '검증용 label shape:', valGan_label.shape)\n",
        "print('학습용origin path shape:' , trOrigin_path.shape, 'test label shape:', trOrigin_label.shape)\n",
        "print('테스트 path shape:' , test_path.shape, 'test label shape:', test_label.shape)"
      ],
      "metadata": {
        "colab": {
          "base_uri": "https://localhost:8080/"
        },
        "id": "0QQe09HvFEUr",
        "outputId": "2ab8794a-6be2-4f92-ec76-4d74acc77dd0"
      },
      "execution_count": 19,
      "outputs": [
        {
          "output_type": "stream",
          "name": "stdout",
          "text": [
            "학습용 path shape: (16147,) 검증용 path shape: (164,) 학습용 label shape: (16147, 9) 검증용 label shape: (164, 9)\n",
            "학습용origin path shape: (210,) test label shape: (210, 9)\n",
            "테스트 path shape: (180,) test label shape: (180, 9)\n"
          ]
        }
      ]
    },
    {
      "cell_type": "code",
      "source": [
        "trGan_path"
      ],
      "metadata": {
        "colab": {
          "base_uri": "https://localhost:8080/"
        },
        "id": "eQnzm1omh9ux",
        "outputId": "56eaf3f6-236a-4292-be8f-916171c1c21d"
      },
      "execution_count": 20,
      "outputs": [
        {
          "output_type": "execute_result",
          "data": {
            "text/plain": [
              "array(['/content/drive/MyDrive/IncludeAtopyGanData6464TrainVal/train/scratch2/myScratch2_249.jpg',\n",
              "       '/content/drive/MyDrive/IncludeAtopyGanData6464TrainVal/train/scratch3/generatedScratch31465.jpg',\n",
              "       '/content/drive/MyDrive/IncludeAtopyGanData6464TrainVal/train/red3/myReds_1841.jpg',\n",
              "       ...,\n",
              "       '/content/drive/MyDrive/IncludeAtopyGanData6464TrainVal/train/scratch1/myScratch1_1689.jpg',\n",
              "       '/content/drive/MyDrive/IncludeAtopyGanData6464TrainVal/train/li1/myLi1_374.jpg',\n",
              "       '/content/drive/MyDrive/IncludeAtopyGanData6464TrainVal/train/red2/myReds_684.jpg'],\n",
              "      dtype=object)"
            ]
          },
          "metadata": {},
          "execution_count": 20
        }
      ]
    },
    {
      "cell_type": "code",
      "source": [
        "# gan데이터들과 validation 데이터를 제외한 원본 이미지를 합쳐야함\n",
        "\n",
        "finalTrain_path = np.concatenate([trGan_path, trOrigin_path])\n",
        "finalTrain_label = np.concatenate([trGan_label, trOrigin_label])\n",
        "\n",
        "finalVal_path = valOrigin_path\n",
        "finalVal_label = valOrigin_label\n",
        "print(finalTrain_path.shape)\n",
        "print(finalVal_label.shape)\n",
        "print(finalVal_path.shape)\n",
        "print(test_path.shape)\n",
        "print(test_label.shape)"
      ],
      "metadata": {
        "colab": {
          "base_uri": "https://localhost:8080/"
        },
        "id": "icHTpTF7f60p",
        "outputId": "80390cc0-c913-4ea5-948a-a9c7b3d975c2"
      },
      "execution_count": 21,
      "outputs": [
        {
          "output_type": "stream",
          "name": "stdout",
          "text": [
            "(16357,)\n",
            "(210, 9)\n",
            "(210,)\n",
            "(180,)\n",
            "(180, 9)\n"
          ]
        }
      ]
    },
    {
      "cell_type": "code",
      "source": [
        "from tensorflow.keras.applications.xception import preprocess_input as xcp_preprocess_input\n",
        "\n",
        "tr_ds = atopyScale_Dataset(finalTrain_path, finalTrain_label, batch_size=BATCH_SIZE, augmentor=None, \n",
        "                      shuffle=True, pre_func=xcp_preprocess_input)\n",
        "val_ds = atopyScale_Dataset(finalVal_path, finalVal_label, batch_size=BATCH_SIZE, augmentor=None, \n",
        "                       shuffle=False, pre_func=xcp_preprocess_input)\n",
        "test_ds = atopyScale_Dataset(test_path, test_label, batch_size=BATCH_SIZE, augmentor=None, \n",
        "                       shuffle=False, pre_func=xcp_preprocess_input)\n",
        "\n",
        "tr_image_batch = next(iter(tr_ds))[0]\n",
        "val_image_batch = next(iter(val_ds))[0]\n",
        "test_image_batch = next(iter(test_ds))[0]\n",
        "print(tr_image_batch.shape, val_image_batch.shape)\n",
        "\n",
        "print(tr_image_batch[:1])\n",
        "print(val_image_batch[:1])\n",
        "print(test_image_batch[:1])"
      ],
      "metadata": {
        "colab": {
          "base_uri": "https://localhost:8080/"
        },
        "id": "XXdx3cKcFEW9",
        "outputId": "4e862959-115a-47ef-8b86-77bc8b23f2c7"
      },
      "execution_count": 22,
      "outputs": [
        {
          "output_type": "stream",
          "name": "stdout",
          "text": [
            "(8, 64, 64, 3) (8, 64, 64, 3)\n",
            "[[[[0.7176471  0.34901965 0.28627455]\n",
            "   [0.8117647  0.427451   0.37254906]\n",
            "   [0.9529412  0.5372549  0.4901961 ]\n",
            "   ...\n",
            "   [0.99215686 0.4666667  0.3411765 ]\n",
            "   [0.9843137  0.4666667  0.35686278]\n",
            "   [0.9607843  0.4431373  0.33333337]]\n",
            "\n",
            "  [[1.         0.6313726  0.5686275 ]\n",
            "   [0.9843137  0.6        0.54509807]\n",
            "   [0.99215686 0.5764706  0.5294118 ]\n",
            "   ...\n",
            "   [1.         0.5137255  0.38823533]\n",
            "   [1.         0.5058824  0.39607847]\n",
            "   [1.         0.4901961  0.3803922 ]]\n",
            "\n",
            "  [[1.         0.7176471  0.6627451 ]\n",
            "   [1.         0.6156863  0.56078434]\n",
            "   [0.9372549  0.52156866 0.47450984]\n",
            "   ...\n",
            "   [0.99215686 0.49803925 0.3803922 ]\n",
            "   [0.99215686 0.49803925 0.3803922 ]\n",
            "   [0.9843137  0.4901961  0.37254906]]\n",
            "\n",
            "  ...\n",
            "\n",
            "  [[0.92941177 0.3176471  0.21568632]\n",
            "   [0.8666667  0.254902   0.15294123]\n",
            "   [0.8352941  0.22352946 0.12156868]\n",
            "   ...\n",
            "   [0.9843137  0.41960788 0.30196083]\n",
            "   [0.99215686 0.41960788 0.28627455]\n",
            "   [0.9529412  0.3803922  0.24705887]]\n",
            "\n",
            "  [[0.96862745 0.34901965 0.24705887]\n",
            "   [0.9372549  0.3176471  0.21568632]\n",
            "   [0.92941177 0.30980396 0.20784318]\n",
            "   ...\n",
            "   [1.         0.5058824  0.38823533]\n",
            "   [1.         0.49803925 0.37254906]\n",
            "   [1.         0.45098042 0.32549024]]\n",
            "\n",
            "  [[1.         0.41960788 0.3176471 ]\n",
            "   [1.         0.39607847 0.2941177 ]\n",
            "   [1.         0.39607847 0.2941177 ]\n",
            "   ...\n",
            "   [1.         0.49803925 0.3803922 ]\n",
            "   [1.         0.41960788 0.2941177 ]\n",
            "   [0.92941177 0.33333337 0.20784318]]]]\n",
            "[[[[ 0.67058825  0.05098045 -0.05098039]\n",
            "   [ 0.62352943  0.00392163 -0.09803921]\n",
            "   [ 0.5764706  -0.06666666 -0.1607843 ]\n",
            "   ...\n",
            "   [ 0.5921569  -0.01176471 -0.05882353]\n",
            "   [ 0.67058825  0.05098045  0.0196079 ]\n",
            "   [ 0.73333335  0.09803927  0.07450986]]\n",
            "\n",
            "  [[ 0.7254902   0.082353   -0.01176471]\n",
            "   [ 0.6784314   0.03529418 -0.05882353]\n",
            "   [ 0.5921569  -0.05098039 -0.14509803]\n",
            "   ...\n",
            "   [ 0.6156863   0.01176476 -0.03529412]\n",
            "   [ 0.64705884  0.02745104 -0.00392157]\n",
            "   [ 0.6784314   0.05882359  0.02745104]]\n",
            "\n",
            "  [[ 0.75686276  0.10588241 -0.00392157]\n",
            "   [ 0.7411765   0.09019613 -0.01960784]\n",
            "   [ 0.62352943 -0.03529412 -0.12156862]\n",
            "   ...\n",
            "   [ 0.654902    0.05098045  0.00392163]\n",
            "   [ 0.6392157   0.02745104 -0.00392157]\n",
            "   [ 0.6313726   0.0196079  -0.01176471]]\n",
            "\n",
            "  ...\n",
            "\n",
            "  [[ 0.254902   -0.56078434 -0.58431375]\n",
            "   [ 0.26274514 -0.5372549  -0.5686275 ]\n",
            "   [ 0.27843142 -0.52156866 -0.5529412 ]\n",
            "   ...\n",
            "   [ 0.30196083 -0.49019605 -0.4588235 ]\n",
            "   [ 0.254902   -0.52156866 -0.4980392 ]\n",
            "   [ 0.21568632 -0.5372549  -0.52156866]]\n",
            "\n",
            "  [[ 0.26274514 -0.56078434 -0.58431375]\n",
            "   [ 0.254902   -0.56078434 -0.58431375]\n",
            "   [ 0.27058828 -0.54509807 -0.5686275 ]\n",
            "   ...\n",
            "   [ 0.23921573 -0.58431375 -0.5529412 ]\n",
            "   [ 0.21568632 -0.5686275  -0.5529412 ]\n",
            "   [ 0.21568632 -0.5529412  -0.54509807]]\n",
            "\n",
            "  [[ 0.26274514 -0.56078434 -0.58431375]\n",
            "   [ 0.254902   -0.5686275  -0.5921569 ]\n",
            "   [ 0.26274514 -0.56078434 -0.58431375]\n",
            "   ...\n",
            "   [ 0.16078436 -0.6627451  -0.6313726 ]\n",
            "   [ 0.18431377 -0.62352943 -0.6       ]\n",
            "   [ 0.21568632 -0.5686275  -0.5529412 ]]]]\n",
            "[[[[ 0.43529415 -0.05882353  0.07450986]\n",
            "   [ 0.43529415 -0.05882353  0.07450986]\n",
            "   [ 0.41960788 -0.05882353  0.082353  ]\n",
            "   ...\n",
            "   [ 0.427451   -0.15294117 -0.01960784]\n",
            "   [ 0.41176474 -0.16862744 -0.03529412]\n",
            "   [ 0.41960788 -0.1607843  -0.02745098]]\n",
            "\n",
            "  [[ 0.43529415 -0.05882353  0.07450986]\n",
            "   [ 0.427451   -0.06666666  0.06666672]\n",
            "   [ 0.41176474 -0.06666666  0.07450986]\n",
            "   ...\n",
            "   [ 0.427451   -0.15294117 -0.01960784]\n",
            "   [ 0.427451   -0.15294117 -0.01960784]\n",
            "   [ 0.41960788 -0.1607843  -0.02745098]]\n",
            "\n",
            "  [[ 0.41960788 -0.05882353  0.05882359]\n",
            "   [ 0.41960788 -0.05882353  0.05882359]\n",
            "   [ 0.4039216  -0.0745098   0.05098045]\n",
            "   ...\n",
            "   [ 0.4039216  -0.16862744 -0.03529412]\n",
            "   [ 0.41176474 -0.1607843  -0.02745098]\n",
            "   [ 0.4039216  -0.16862744 -0.03529412]]\n",
            "\n",
            "  ...\n",
            "\n",
            "  [[ 0.082353   -0.4352941  -0.35686272]\n",
            "   [ 0.06666672 -0.42745095 -0.36470586]\n",
            "   [ 0.082353   -0.42745095 -0.36470586]\n",
            "   ...\n",
            "   [ 0.23921573 -0.26274508 -0.15294117]\n",
            "   [ 0.254902   -0.24705881 -0.1372549 ]\n",
            "   [ 0.26274514 -0.23921567 -0.12941176]]\n",
            "\n",
            "  [[ 0.02745104 -0.4980392  -0.42745095]\n",
            "   [ 0.03529418 -0.47450978 -0.42745095]\n",
            "   [ 0.04313731 -0.47450978 -0.44313723]\n",
            "   ...\n",
            "   [ 0.254902   -0.23137254 -0.12941176]\n",
            "   [ 0.27058828 -0.21568626 -0.11372548]\n",
            "   [ 0.27843142 -0.20784312 -0.10588235]]\n",
            "\n",
            "  [[ 0.00392163 -0.52156866 -0.46666664]\n",
            "   [ 0.01176476 -0.5058824  -0.47450978]\n",
            "   [ 0.00392163 -0.5137255  -0.4823529 ]\n",
            "   ...\n",
            "   [ 0.26274514 -0.2235294  -0.12156862]\n",
            "   [ 0.27843142 -0.20784312 -0.10588235]\n",
            "   [ 0.2941177  -0.19215685 -0.09019607]]]]\n"
          ]
        }
      ]
    },
    {
      "cell_type": "markdown",
      "source": [
        "# 변형 Xception 모델 정의"
      ],
      "metadata": {
        "id": "_07aVFc7Fqql"
      }
    },
    {
      "cell_type": "code",
      "source": [
        "#import necessary libraries\n",
        "\n",
        "import tensorflow as tf\n",
        "from tensorflow.keras.layers import Input,Dense,Conv2D,Add\n",
        "from tensorflow.keras.layers import SeparableConv2D,ReLU, DepthwiseConv2D\n",
        "from tensorflow.keras.layers import BatchNormalization,MaxPool2D\n",
        "from tensorflow.keras.layers import GlobalAveragePooling2D, Dropout, AveragePooling2D\n",
        "from tensorflow.keras import Model\n",
        "from tensorflow.keras.optimizers import Adam , RMSprop \n",
        "from tensorflow.keras.callbacks import ReduceLROnPlateau , EarlyStopping , ModelCheckpoint , LearningRateScheduler\n",
        "from tensorflow.keras.layers import Concatenate"
      ],
      "metadata": {
        "id": "RS5ooTk4FEZN"
      },
      "execution_count": 23,
      "outputs": []
    },
    {
      "cell_type": "code",
      "source": [
        "def inception_A_module(x, filters_1x1, filters_3x3_reduce, filters_3x3, filters_3x3x3_reduce, filters_3x3x3, filters_avg_pool,\n",
        "                      name=None, strides=1):\n",
        "    '''\n",
        "    x: 입력 Tensor\n",
        "    filters_1x1: 단독 1x1 필터수\n",
        "    filters_3x3_reduce: 3x3 Conv 적용 전 1x1 Conv 필터수\n",
        "    filters_3x3: 3x3 Conv 필터수\n",
        "    filters_3x3x3_reduce: 3x3x3 Conv 적용 전 1x1 Conv 필터수\n",
        "    filters_3x3x3: 3x3x3 Conv 필터수\n",
        "    filters_avg_pool : global average pooling 이 후 1x1필터 수 \n",
        "    \n",
        "    '''\n",
        "    \n",
        "    # 첫번째 1x1 Conv\n",
        "    conv_1x1 = Conv2D(filters_1x1, (1, 1), padding='same', activation='relu', strides=strides)(x)\n",
        "\n",
        "    # 3x3 적용 전 1x1 conv -> 3x3 Conv\n",
        "    conv_3x3 = Conv2D(filters_3x3_reduce, (1, 1), padding='same', activation='relu',strides=strides)(x)\n",
        "    conv_3x3 = Conv2D(filters_3x3, (3, 3), padding='same', activation='relu',strides=1)(conv_3x3)\n",
        "\n",
        "    # 3x3, 3x3 적용 전 1x1 Conv -> 3x3 Conv\n",
        "    conv_3x3x3 = Conv2D(filters_3x3x3_reduce, (1, 1), padding='same', activation='relu',strides=strides)(x)\n",
        "    conv_3x3x3 = Conv2D(filters_3x3x3, (3, 3), padding='same', activation='relu',strides=1)(conv_3x3x3)\n",
        "    conv_3x3x3 = Conv2D(filters_3x3x3, (3, 3), padding='same', activation='relu',strides=1)(conv_3x3x3)\n",
        "\n",
        "    avg_pool = AveragePooling2D(padding=\"same\", pool_size=3, strides=strides)(x)\n",
        "    avg_pool = Conv2D(filters_avg_pool, (1, 1), padding='same', activation='relu',strides=1)(avg_pool)\n",
        "    # 단독 1x1 결과, 3x3 결과, 3x3x3 결과, AvgPool이후 1x1 결과 feature map을 채널 기준으로 Concat 적용. \n",
        "    output = Concatenate(axis=-1, name=name)([conv_1x1, conv_3x3, conv_3x3x3, avg_pool])\n",
        "    return output"
      ],
      "metadata": {
        "id": "urduCKpzFEbX"
      },
      "execution_count": 24,
      "outputs": []
    },
    {
      "cell_type": "code",
      "source": [
        "def inception_B_module(x, filters_1x1, filters_2_7x7_reduce, filters_2_1x7, filters_2_7x1,filters_3_7x1x1x7_reduce, filters_3_1x7_1,filters_3_7x1_2, filters_3_1x7_3, filters_3_7x1_4, \n",
        "                     filters_avg_pool, name=None, strides=1):\n",
        "    '''\n",
        "    x: 입력 Tensor\n",
        "    filters_1x1: 단독 1x1 필터수\n",
        "    filters_7x7_reduce: 1x7 1x7 Conv 적용 전 1x1 Conv 필터수\n",
        "    \n",
        "    '''\n",
        "    \n",
        "    # 첫번째 1x1 Conv\n",
        "    conv_1x1 = Conv2D(filters_1x1, (1, 1), padding='same', activation='relu', strides=strides)(x)\n",
        "    # 7x7 적용 전 1x1 conv -> 7x7 Conv\n",
        "    conv_7x7 = Conv2D(filters_2_7x7_reduce, (1, 1), padding='same', activation='relu',strides=strides)(x)\n",
        "    conv_7x7 = Conv2D(filters_2_1x7, (1, 7), padding='same', activation='relu',strides=1)(conv_7x7)\n",
        "    conv_7x7 = Conv2D(filters_2_7x1, (1, 7), padding='same', activation='relu',strides=1)(conv_7x7)\n",
        "\n",
        "    # 7x7x7, 7x7x7 적용 전 1x1 Conv -> 7x7x7 Conv\n",
        "    conv_7x7x7 = Conv2D(filters_3_7x1x1x7_reduce, (1, 1), padding='same', activation='relu',strides=strides)(x)\n",
        "    conv_7x7x7 = Conv2D(filters_3_1x7_1, (1, 7), padding='same', activation='relu',strides=1)(conv_7x7x7)\n",
        "    conv_7x7x7 = Conv2D(filters_3_7x1_2, (7, 1), padding='same', activation='relu',strides=1)(conv_7x7x7)\n",
        "    conv_7x7x7 = Conv2D(filters_3_1x7_3, (1, 7), padding='same', activation='relu',strides=1)(conv_7x7x7)\n",
        "    conv_7x7x7 = Conv2D(filters_3_7x1_4, (7, 1), padding='same', activation='relu',strides=1)(conv_7x7x7)\n",
        "\n",
        "    # Average pooling 부분 \n",
        "    avg_pool = AveragePooling2D(padding=\"same\", pool_size=3, strides=strides )(x)\n",
        "    avg_pool = Conv2D(filters_avg_pool, (1, 1), padding='same', activation='relu',strides=1)(avg_pool)\n",
        "    # 단독 1x1 결과, 3x3 결과, 5x5 결과, pool이후 1x1 결과 feature map을 채널 기준으로 Concat 적용. \n",
        "    output = Concatenate(axis=-1, name=name)([conv_1x1, conv_7x7, conv_7x7x7, avg_pool])\n",
        "    return output"
      ],
      "metadata": {
        "id": "AA2U23-fFEdC"
      },
      "execution_count": 25,
      "outputs": []
    },
    {
      "cell_type": "code",
      "source": [
        "def inception_C_module(x, filters_1x1, filters_2_3x11x3_reduce, filters_2_1x3, filters_2_3x1,filters_3_3x11x3_reduce, filters_3_1x3_1,filters_3_3x1_2, filters_3_1x3_3, filters_3_3x1_4, \n",
        "                     filters_avg_pool, name=None, strides=1):\n",
        "    \n",
        "    # 첫번째 1x1 Conv\n",
        "    conv_1x1 = Conv2D(filters_1x1, (1, 1), padding='same', activation='relu',strides=strides)(x)\n",
        "\n",
        "    # 3x1 1x3 적용 전 1x1 conv -> 3x1 1x3 분기 Conv\n",
        "    conv_3x11x3 = Conv2D(filters_2_3x11x3_reduce, (1, 1), padding='same', activation='relu',strides=strides)(x)\n",
        "    conv_3x11x3_1 = Conv2D(filters_2_1x3, (1, 3), padding='same', activation='relu',strides=1)(conv_3x11x3)\n",
        "    conv_3x11x3_2 = Conv2D(filters_2_3x1, (3, 1), padding='same', activation='relu',strides=1)(conv_3x11x3)\n",
        "    #conv_3x11x3_3 = Concatenate(axis=-1, name=name)([conv_3x11x3_1, conv_3x11x3_2])\n",
        "\n",
        "    # 1x3 3x1 1x3 3x1  적용 전 1x1 Conv -> 1x3 3x1 하고 분기 conv\n",
        "    conv_3x11x3x2 = Conv2D(filters_3_3x11x3_reduce, (1, 1), padding='same', activation='relu',strides=strides)(x)\n",
        "    conv_3x11x3x2 = Conv2D(filters_3_1x3_1, (1, 3), padding='same', activation='relu',strides=1)(conv_3x11x3x2)\n",
        "    conv_3x11x3x2 = Conv2D(filters_3_3x1_2, (3, 1), padding='same', activation='relu',strides=1)(conv_3x11x3x2)\n",
        "    conv_3x11x3x2_1 = Conv2D(filters_3_1x3_3, (1, 3), padding='same', activation='relu',strides=1)(conv_3x11x3x2)\n",
        "    conv_3x11x3x2_2 = Conv2D(filters_3_3x1_4, (3, 1), padding='same', activation='relu',strides=1)(conv_3x11x3x2)\n",
        "    #conv_3x11x3x2_3 = Concatenate(axis=-1, name=name)([conv_3x11x3x2_1, conv_3x11x3x2_2])\n",
        "\n",
        "    # Global Average pooling 부분 \n",
        "    avg_pool = AveragePooling2D(padding=\"same\", pool_size=3, strides=strides)(x)\n",
        "    avg_pool = Conv2D(filters_avg_pool, (1, 1), padding='same', activation='relu',strides=1)(avg_pool)\n",
        "    # 단독 1x1 결과, 3x3 결과, 5x5 결과, pool이후 1x1 결과 feature map을 채널 기준으로 Concat 적용. \n",
        "    output = Concatenate(axis=-1, name=name)([conv_1x1, conv_3x11x3_1, conv_3x11x3_2, conv_3x11x3x2_1,conv_3x11x3x2_2, avg_pool])\n",
        "    return output"
      ],
      "metadata": {
        "id": "9lRnIvwokDuX"
      },
      "execution_count": 26,
      "outputs": []
    },
    {
      "cell_type": "code",
      "source": [
        "#convolution 연산을 수행하는 함수 BatchNormalization 까지 수행한다. \n",
        "\n",
        "def conv_bn(x, filters, kernel_size, strides=1):\n",
        "    \n",
        "    x = Conv2D(filters=filters, \n",
        "               kernel_size = kernel_size, \n",
        "               strides=strides, \n",
        "               padding = 'same', \n",
        "               use_bias = False)(x)\n",
        "    x = BatchNormalization()(x)\n",
        "    return x"
      ],
      "metadata": {
        "id": "2nfF7JI-kDwj"
      },
      "execution_count": 27,
      "outputs": []
    },
    {
      "cell_type": "code",
      "source": [
        "def sep_bn(x, filters, kernel_size, strides=1):\n",
        "    \n",
        "    x = SeparableConv2D(filters=filters, \n",
        "                        kernel_size = kernel_size, \n",
        "                        strides=strides, \n",
        "                        padding = 'same', \n",
        "                        use_bias = False)(x)\n",
        "    x = BatchNormalization()(x)\n",
        "    return x"
      ],
      "metadata": {
        "id": "3kQmPFhtkDy6"
      },
      "execution_count": 28,
      "outputs": []
    },
    {
      "cell_type": "code",
      "source": [
        "#entry Flow ReLu()함수는 따로 수행해주었다. \n",
        "\n",
        "\n",
        "def entry_flow(x):\n",
        "    \n",
        "    #feature map 절반으로 줄음 strides=2 때문\n",
        "    x = conv_bn(x, filters =32, kernel_size =3, strides=2)\n",
        "    x = ReLU()(x)\n",
        "    x = conv_bn(x, filters =64, kernel_size =3, strides=1)\n",
        "    tensor = ReLU()(x)\n",
        "    \n",
        "    x = sep_bn(tensor, filters = 128, kernel_size =3)\n",
        "    x = ReLU()(x)\n",
        "    x = sep_bn(x, filters = 128, kernel_size =3)\n",
        "    #feature map 크기 줄어들음 strides=2\n",
        "    x = MaxPool2D(pool_size=3, strides=2, padding = 'same')(x)\n",
        "    \n",
        "    #feature map 56\n",
        "    tensor = conv_bn(tensor, filters=128, kernel_size = 1,strides=2)\n",
        "    x = Add()([tensor,x])\n",
        "    \n",
        "    x = ReLU()(x)\n",
        "    x = sep_bn(x, filters =256, kernel_size=3)\n",
        "    #x = inception_A_module(x, filters_1x1=256, filters_3x3_reduce=128, filters_3x3=96, filters_3x3x3_reduce=128, filters_3x3x3=96, filters_avg_pool=96)\n",
        "    x = ReLU()(x)\n",
        "    x = sep_bn(x, filters =256, kernel_size=3)\n",
        "    x = MaxPool2D(pool_size=3, strides=2, padding = 'same')(x)\n",
        "    \n",
        "    tensor = inception_A_module(tensor, filters_1x1=64, filters_3x3_reduce=128, \n",
        "                                filters_3x3=64, filters_3x3x3_reduce=128, filters_3x3x3=64, \n",
        "                               filters_avg_pool=64, strides=2)\n",
        "    #tensor = conv_bn(tensor, filters=256, kernel_size = 1,strides=2)\n",
        "    #Add는 차원까지 같아야함 \n",
        "    x = Add()([tensor,x])\n",
        "    \n",
        "    x = ReLU()(x)\n",
        "    x = sep_bn(x, filters =728, kernel_size=3)\n",
        "    x = ReLU()(x)\n",
        "    x = sep_bn(x, filters =728, kernel_size=3)\n",
        "    x = MaxPool2D(pool_size=3, strides=2, padding = 'same')(x)\n",
        "    \n",
        "    #tensor = conv_bn(tensor, filters=728, kernel_size = 1,strides=2)\n",
        "    tensor = inception_B_module(tensor, filters_1x1=182, filters_2_7x7_reduce=128, filters_2_1x7=128, filters_2_7x1=182,filters_3_7x1x1x7_reduce=128, filters_3_1x7_1=128,filters_3_7x1_2=128, filters_3_1x7_3=128, filters_3_7x1_4=182, \n",
        "                     filters_avg_pool=182, name=None, strides=2)\n",
        "    x = Add()([tensor,x])\n",
        "    return x"
      ],
      "metadata": {
        "id": "lfmUFHMEkD1M"
      },
      "execution_count": 29,
      "outputs": []
    },
    {
      "cell_type": "code",
      "source": [
        "# middle flow\n",
        "\n",
        "def middle_flow(tensor):\n",
        "    \n",
        "    for _ in range(8):\n",
        "        x = ReLU()(tensor)\n",
        "        x = sep_bn(x, filters = 728, kernel_size = 3)\n",
        "        x = ReLU()(x)\n",
        "        x = sep_bn(x, filters = 728, kernel_size = 3)\n",
        "        #x = inception_C_module(x, filters_1x1=256, filters_2_3x11x3_reduce=384, filters_2_1x3=256, filters_2_3x1=256,filters_3_3x11x3_reduce=384, filters_3_1x3_1=448,filters_3_3x1_2=512, filters_3_1x3_3=256, filters_3_3x1_4=256, \n",
        "                     #filters_avg_pool=256, name=None)\n",
        "        x = ReLU()(x)\n",
        "        x = sep_bn(x, filters = 728, kernel_size = 3)\n",
        "        x = ReLU()(x)\n",
        "        #tensor = inception_B_module(tensor, filters_1x1=182, filters_2_7x7_reduce=128, filters_2_1x7=128, filters_2_7x1=182,filters_3_7x1x1x7_reduce=128, filters_3_1x7_1=128,filters_3_7x1_2=128, filters_3_1x7_3=128, filters_3_7x1_4=182, \n",
        "                     #filters_avg_pool=182, name=None, strides=1)\n",
        "        tensor = Add()([tensor,x])\n",
        "        \n",
        "    return tensor"
      ],
      "metadata": {
        "id": "Sm32FqVrkD3M"
      },
      "execution_count": 30,
      "outputs": []
    },
    {
      "cell_type": "code",
      "source": [
        "# exit flow\n",
        "\n",
        "def exit_flow(tensor, n_classes):\n",
        "    \n",
        "    x = ReLU()(tensor)\n",
        "    x = sep_bn(x, filters = 728,  kernel_size=3)\n",
        "    x = ReLU()(x)\n",
        "    x = sep_bn(x, filters = 1024,  kernel_size=3)\n",
        "    x = MaxPool2D(pool_size = 3, strides = 2, padding ='same')(x)\n",
        "    \n",
        "    tensor = conv_bn(tensor, filters =1024, kernel_size=1, strides =2)\n",
        "    # tensor = inception_C_module(tensor, filters_1x1=256, filters_2_3x11x3_reduce=384, filters_2_1x3=256, filters_2_3x1=256,filters_3_3x11x3_reduce=384, filters_3_1x3_1=448,filters_3_3x1_2=512, filters_3_1x3_3=256, filters_3_3x1_4=256, \n",
        "    #                  filters_avg_pool=256, name=None, strides=2)\n",
        "    x = Add()([tensor,x])\n",
        "    \n",
        "    x = sep_bn(x, filters = 1536,  kernel_size=3)\n",
        "    x = ReLU()(x)\n",
        "    tensor = inception_C_module(tensor, filters_1x1=256, filters_2_3x11x3_reduce=384, filters_2_1x3=256, filters_2_3x1=256,filters_3_3x11x3_reduce=384, filters_3_1x3_1=448,filters_3_3x1_2=512, filters_3_1x3_3=256, filters_3_3x1_4=256, \n",
        "                      filters_avg_pool=256, name=None, strides=1)\n",
        "    x = Add()([tensor,x])\n",
        "    x = sep_bn(x, filters = 2048,  kernel_size=3)\n",
        "    x = GlobalAveragePooling2D()(x)\n",
        "    \n",
        "    x = Dense (n_classes, activation = 'softmax')(x)\n",
        "    \n",
        "    return x"
      ],
      "metadata": {
        "id": "wJz3IgvIkD5W"
      },
      "execution_count": 31,
      "outputs": []
    },
    {
      "cell_type": "code",
      "source": [
        "def create_Xception(in_shape=(224,224,3), n_classes=10):\n",
        "  input_tensor = Input(shape=in_shape)\n",
        "  x = entry_flow(input_tensor)\n",
        "  x = middle_flow(x)\n",
        "  output = exit_flow(x, n_classes)# Entry Flow에 Dense layer가 있기 때문에 n_classes를 정해줘야한다. \n",
        "\n",
        "  model = Model(inputs=input_tensor, outputs=output)\n",
        "\n",
        "  return model"
      ],
      "metadata": {
        "id": "QFKEtKC6kD7m"
      },
      "execution_count": 32,
      "outputs": []
    },
    {
      "cell_type": "code",
      "source": [
        "xception = create_Xception(in_shape=(64,64,3), n_classes=9)\n",
        "\n",
        "xception.summary()"
      ],
      "metadata": {
        "colab": {
          "base_uri": "https://localhost:8080/"
        },
        "id": "uNZe1KzikD9k",
        "outputId": "b6e9ad97-97c1-4422-aec8-dcf15366af78"
      },
      "execution_count": 33,
      "outputs": [
        {
          "output_type": "stream",
          "name": "stdout",
          "text": [
            "Model: \"model\"\n",
            "__________________________________________________________________________________________________\n",
            " Layer (type)                   Output Shape         Param #     Connected to                     \n",
            "==================================================================================================\n",
            " input_1 (InputLayer)           [(None, 64, 64, 3)]  0           []                               \n",
            "                                                                                                  \n",
            " conv2d (Conv2D)                (None, 32, 32, 32)   864         ['input_1[0][0]']                \n",
            "                                                                                                  \n",
            " batch_normalization (BatchNorm  (None, 32, 32, 32)  128         ['conv2d[0][0]']                 \n",
            " alization)                                                                                       \n",
            "                                                                                                  \n",
            " re_lu (ReLU)                   (None, 32, 32, 32)   0           ['batch_normalization[0][0]']    \n",
            "                                                                                                  \n",
            " conv2d_1 (Conv2D)              (None, 32, 32, 64)   18432       ['re_lu[0][0]']                  \n",
            "                                                                                                  \n",
            " batch_normalization_1 (BatchNo  (None, 32, 32, 64)  256         ['conv2d_1[0][0]']               \n",
            " rmalization)                                                                                     \n",
            "                                                                                                  \n",
            " re_lu_1 (ReLU)                 (None, 32, 32, 64)   0           ['batch_normalization_1[0][0]']  \n",
            "                                                                                                  \n",
            " separable_conv2d (SeparableCon  (None, 32, 32, 128)  8768       ['re_lu_1[0][0]']                \n",
            " v2D)                                                                                             \n",
            "                                                                                                  \n",
            " batch_normalization_2 (BatchNo  (None, 32, 32, 128)  512        ['separable_conv2d[0][0]']       \n",
            " rmalization)                                                                                     \n",
            "                                                                                                  \n",
            " re_lu_2 (ReLU)                 (None, 32, 32, 128)  0           ['batch_normalization_2[0][0]']  \n",
            "                                                                                                  \n",
            " separable_conv2d_1 (SeparableC  (None, 32, 32, 128)  17536      ['re_lu_2[0][0]']                \n",
            " onv2D)                                                                                           \n",
            "                                                                                                  \n",
            " conv2d_2 (Conv2D)              (None, 16, 16, 128)  8192        ['re_lu_1[0][0]']                \n",
            "                                                                                                  \n",
            " batch_normalization_3 (BatchNo  (None, 32, 32, 128)  512        ['separable_conv2d_1[0][0]']     \n",
            " rmalization)                                                                                     \n",
            "                                                                                                  \n",
            " batch_normalization_4 (BatchNo  (None, 16, 16, 128)  512        ['conv2d_2[0][0]']               \n",
            " rmalization)                                                                                     \n",
            "                                                                                                  \n",
            " max_pooling2d (MaxPooling2D)   (None, 16, 16, 128)  0           ['batch_normalization_3[0][0]']  \n",
            "                                                                                                  \n",
            " add (Add)                      (None, 16, 16, 128)  0           ['batch_normalization_4[0][0]',  \n",
            "                                                                  'max_pooling2d[0][0]']          \n",
            "                                                                                                  \n",
            " re_lu_3 (ReLU)                 (None, 16, 16, 128)  0           ['add[0][0]']                    \n",
            "                                                                                                  \n",
            " separable_conv2d_2 (SeparableC  (None, 16, 16, 256)  33920      ['re_lu_3[0][0]']                \n",
            " onv2D)                                                                                           \n",
            "                                                                                                  \n",
            " batch_normalization_5 (BatchNo  (None, 16, 16, 256)  1024       ['separable_conv2d_2[0][0]']     \n",
            " rmalization)                                                                                     \n",
            "                                                                                                  \n",
            " conv2d_6 (Conv2D)              (None, 8, 8, 128)    16512       ['batch_normalization_4[0][0]']  \n",
            "                                                                                                  \n",
            " re_lu_4 (ReLU)                 (None, 16, 16, 256)  0           ['batch_normalization_5[0][0]']  \n",
            "                                                                                                  \n",
            " conv2d_4 (Conv2D)              (None, 8, 8, 128)    16512       ['batch_normalization_4[0][0]']  \n",
            "                                                                                                  \n",
            " conv2d_7 (Conv2D)              (None, 8, 8, 64)     73792       ['conv2d_6[0][0]']               \n",
            "                                                                                                  \n",
            " average_pooling2d (AveragePool  (None, 8, 8, 128)   0           ['batch_normalization_4[0][0]']  \n",
            " ing2D)                                                                                           \n",
            "                                                                                                  \n",
            " separable_conv2d_3 (SeparableC  (None, 16, 16, 256)  67840      ['re_lu_4[0][0]']                \n",
            " onv2D)                                                                                           \n",
            "                                                                                                  \n",
            " conv2d_3 (Conv2D)              (None, 8, 8, 64)     8256        ['batch_normalization_4[0][0]']  \n",
            "                                                                                                  \n",
            " conv2d_5 (Conv2D)              (None, 8, 8, 64)     73792       ['conv2d_4[0][0]']               \n",
            "                                                                                                  \n",
            " conv2d_8 (Conv2D)              (None, 8, 8, 64)     36928       ['conv2d_7[0][0]']               \n",
            "                                                                                                  \n",
            " conv2d_9 (Conv2D)              (None, 8, 8, 64)     8256        ['average_pooling2d[0][0]']      \n",
            "                                                                                                  \n",
            " batch_normalization_6 (BatchNo  (None, 16, 16, 256)  1024       ['separable_conv2d_3[0][0]']     \n",
            " rmalization)                                                                                     \n",
            "                                                                                                  \n",
            " concatenate (Concatenate)      (None, 8, 8, 256)    0           ['conv2d_3[0][0]',               \n",
            "                                                                  'conv2d_5[0][0]',               \n",
            "                                                                  'conv2d_8[0][0]',               \n",
            "                                                                  'conv2d_9[0][0]']               \n",
            "                                                                                                  \n",
            " max_pooling2d_1 (MaxPooling2D)  (None, 8, 8, 256)   0           ['batch_normalization_6[0][0]']  \n",
            "                                                                                                  \n",
            " add_1 (Add)                    (None, 8, 8, 256)    0           ['concatenate[0][0]',            \n",
            "                                                                  'max_pooling2d_1[0][0]']        \n",
            "                                                                                                  \n",
            " re_lu_5 (ReLU)                 (None, 8, 8, 256)    0           ['add_1[0][0]']                  \n",
            "                                                                                                  \n",
            " conv2d_14 (Conv2D)             (None, 4, 4, 128)    32896       ['concatenate[0][0]']            \n",
            "                                                                                                  \n",
            " separable_conv2d_4 (SeparableC  (None, 8, 8, 728)   188672      ['re_lu_5[0][0]']                \n",
            " onv2D)                                                                                           \n",
            "                                                                                                  \n",
            " conv2d_15 (Conv2D)             (None, 4, 4, 128)    114816      ['conv2d_14[0][0]']              \n",
            "                                                                                                  \n",
            " batch_normalization_7 (BatchNo  (None, 8, 8, 728)   2912        ['separable_conv2d_4[0][0]']     \n",
            " rmalization)                                                                                     \n",
            "                                                                                                  \n",
            " conv2d_11 (Conv2D)             (None, 4, 4, 128)    32896       ['concatenate[0][0]']            \n",
            "                                                                                                  \n",
            " conv2d_16 (Conv2D)             (None, 4, 4, 128)    114816      ['conv2d_15[0][0]']              \n",
            "                                                                                                  \n",
            " re_lu_6 (ReLU)                 (None, 8, 8, 728)    0           ['batch_normalization_7[0][0]']  \n",
            "                                                                                                  \n",
            " conv2d_12 (Conv2D)             (None, 4, 4, 128)    114816      ['conv2d_11[0][0]']              \n",
            "                                                                                                  \n",
            " conv2d_17 (Conv2D)             (None, 4, 4, 128)    114816      ['conv2d_16[0][0]']              \n",
            "                                                                                                  \n",
            " average_pooling2d_1 (AveragePo  (None, 4, 4, 256)   0           ['concatenate[0][0]']            \n",
            " oling2D)                                                                                         \n",
            "                                                                                                  \n",
            " separable_conv2d_5 (SeparableC  (None, 8, 8, 728)   536536      ['re_lu_6[0][0]']                \n",
            " onv2D)                                                                                           \n",
            "                                                                                                  \n",
            " conv2d_10 (Conv2D)             (None, 4, 4, 182)    46774       ['concatenate[0][0]']            \n",
            "                                                                                                  \n",
            " conv2d_13 (Conv2D)             (None, 4, 4, 182)    163254      ['conv2d_12[0][0]']              \n",
            "                                                                                                  \n",
            " conv2d_18 (Conv2D)             (None, 4, 4, 182)    163254      ['conv2d_17[0][0]']              \n",
            "                                                                                                  \n",
            " conv2d_19 (Conv2D)             (None, 4, 4, 182)    46774       ['average_pooling2d_1[0][0]']    \n",
            "                                                                                                  \n",
            " batch_normalization_8 (BatchNo  (None, 8, 8, 728)   2912        ['separable_conv2d_5[0][0]']     \n",
            " rmalization)                                                                                     \n",
            "                                                                                                  \n",
            " concatenate_1 (Concatenate)    (None, 4, 4, 728)    0           ['conv2d_10[0][0]',              \n",
            "                                                                  'conv2d_13[0][0]',              \n",
            "                                                                  'conv2d_18[0][0]',              \n",
            "                                                                  'conv2d_19[0][0]']              \n",
            "                                                                                                  \n",
            " max_pooling2d_2 (MaxPooling2D)  (None, 4, 4, 728)   0           ['batch_normalization_8[0][0]']  \n",
            "                                                                                                  \n",
            " add_2 (Add)                    (None, 4, 4, 728)    0           ['concatenate_1[0][0]',          \n",
            "                                                                  'max_pooling2d_2[0][0]']        \n",
            "                                                                                                  \n",
            " re_lu_7 (ReLU)                 (None, 4, 4, 728)    0           ['add_2[0][0]']                  \n",
            "                                                                                                  \n",
            " separable_conv2d_6 (SeparableC  (None, 4, 4, 728)   536536      ['re_lu_7[0][0]']                \n",
            " onv2D)                                                                                           \n",
            "                                                                                                  \n",
            " batch_normalization_9 (BatchNo  (None, 4, 4, 728)   2912        ['separable_conv2d_6[0][0]']     \n",
            " rmalization)                                                                                     \n",
            "                                                                                                  \n",
            " re_lu_8 (ReLU)                 (None, 4, 4, 728)    0           ['batch_normalization_9[0][0]']  \n",
            "                                                                                                  \n",
            " separable_conv2d_7 (SeparableC  (None, 4, 4, 728)   536536      ['re_lu_8[0][0]']                \n",
            " onv2D)                                                                                           \n",
            "                                                                                                  \n",
            " batch_normalization_10 (BatchN  (None, 4, 4, 728)   2912        ['separable_conv2d_7[0][0]']     \n",
            " ormalization)                                                                                    \n",
            "                                                                                                  \n",
            " re_lu_9 (ReLU)                 (None, 4, 4, 728)    0           ['batch_normalization_10[0][0]'] \n",
            "                                                                                                  \n",
            " separable_conv2d_8 (SeparableC  (None, 4, 4, 728)   536536      ['re_lu_9[0][0]']                \n",
            " onv2D)                                                                                           \n",
            "                                                                                                  \n",
            " batch_normalization_11 (BatchN  (None, 4, 4, 728)   2912        ['separable_conv2d_8[0][0]']     \n",
            " ormalization)                                                                                    \n",
            "                                                                                                  \n",
            " re_lu_10 (ReLU)                (None, 4, 4, 728)    0           ['batch_normalization_11[0][0]'] \n",
            "                                                                                                  \n",
            " add_3 (Add)                    (None, 4, 4, 728)    0           ['add_2[0][0]',                  \n",
            "                                                                  're_lu_10[0][0]']               \n",
            "                                                                                                  \n",
            " re_lu_11 (ReLU)                (None, 4, 4, 728)    0           ['add_3[0][0]']                  \n",
            "                                                                                                  \n",
            " separable_conv2d_9 (SeparableC  (None, 4, 4, 728)   536536      ['re_lu_11[0][0]']               \n",
            " onv2D)                                                                                           \n",
            "                                                                                                  \n",
            " batch_normalization_12 (BatchN  (None, 4, 4, 728)   2912        ['separable_conv2d_9[0][0]']     \n",
            " ormalization)                                                                                    \n",
            "                                                                                                  \n",
            " re_lu_12 (ReLU)                (None, 4, 4, 728)    0           ['batch_normalization_12[0][0]'] \n",
            "                                                                                                  \n",
            " separable_conv2d_10 (Separable  (None, 4, 4, 728)   536536      ['re_lu_12[0][0]']               \n",
            " Conv2D)                                                                                          \n",
            "                                                                                                  \n",
            " batch_normalization_13 (BatchN  (None, 4, 4, 728)   2912        ['separable_conv2d_10[0][0]']    \n",
            " ormalization)                                                                                    \n",
            "                                                                                                  \n",
            " re_lu_13 (ReLU)                (None, 4, 4, 728)    0           ['batch_normalization_13[0][0]'] \n",
            "                                                                                                  \n",
            " separable_conv2d_11 (Separable  (None, 4, 4, 728)   536536      ['re_lu_13[0][0]']               \n",
            " Conv2D)                                                                                          \n",
            "                                                                                                  \n",
            " batch_normalization_14 (BatchN  (None, 4, 4, 728)   2912        ['separable_conv2d_11[0][0]']    \n",
            " ormalization)                                                                                    \n",
            "                                                                                                  \n",
            " re_lu_14 (ReLU)                (None, 4, 4, 728)    0           ['batch_normalization_14[0][0]'] \n",
            "                                                                                                  \n",
            " add_4 (Add)                    (None, 4, 4, 728)    0           ['add_3[0][0]',                  \n",
            "                                                                  're_lu_14[0][0]']               \n",
            "                                                                                                  \n",
            " re_lu_15 (ReLU)                (None, 4, 4, 728)    0           ['add_4[0][0]']                  \n",
            "                                                                                                  \n",
            " separable_conv2d_12 (Separable  (None, 4, 4, 728)   536536      ['re_lu_15[0][0]']               \n",
            " Conv2D)                                                                                          \n",
            "                                                                                                  \n",
            " batch_normalization_15 (BatchN  (None, 4, 4, 728)   2912        ['separable_conv2d_12[0][0]']    \n",
            " ormalization)                                                                                    \n",
            "                                                                                                  \n",
            " re_lu_16 (ReLU)                (None, 4, 4, 728)    0           ['batch_normalization_15[0][0]'] \n",
            "                                                                                                  \n",
            " separable_conv2d_13 (Separable  (None, 4, 4, 728)   536536      ['re_lu_16[0][0]']               \n",
            " Conv2D)                                                                                          \n",
            "                                                                                                  \n",
            " batch_normalization_16 (BatchN  (None, 4, 4, 728)   2912        ['separable_conv2d_13[0][0]']    \n",
            " ormalization)                                                                                    \n",
            "                                                                                                  \n",
            " re_lu_17 (ReLU)                (None, 4, 4, 728)    0           ['batch_normalization_16[0][0]'] \n",
            "                                                                                                  \n",
            " separable_conv2d_14 (Separable  (None, 4, 4, 728)   536536      ['re_lu_17[0][0]']               \n",
            " Conv2D)                                                                                          \n",
            "                                                                                                  \n",
            " batch_normalization_17 (BatchN  (None, 4, 4, 728)   2912        ['separable_conv2d_14[0][0]']    \n",
            " ormalization)                                                                                    \n",
            "                                                                                                  \n",
            " re_lu_18 (ReLU)                (None, 4, 4, 728)    0           ['batch_normalization_17[0][0]'] \n",
            "                                                                                                  \n",
            " add_5 (Add)                    (None, 4, 4, 728)    0           ['add_4[0][0]',                  \n",
            "                                                                  're_lu_18[0][0]']               \n",
            "                                                                                                  \n",
            " re_lu_19 (ReLU)                (None, 4, 4, 728)    0           ['add_5[0][0]']                  \n",
            "                                                                                                  \n",
            " separable_conv2d_15 (Separable  (None, 4, 4, 728)   536536      ['re_lu_19[0][0]']               \n",
            " Conv2D)                                                                                          \n",
            "                                                                                                  \n",
            " batch_normalization_18 (BatchN  (None, 4, 4, 728)   2912        ['separable_conv2d_15[0][0]']    \n",
            " ormalization)                                                                                    \n",
            "                                                                                                  \n",
            " re_lu_20 (ReLU)                (None, 4, 4, 728)    0           ['batch_normalization_18[0][0]'] \n",
            "                                                                                                  \n",
            " separable_conv2d_16 (Separable  (None, 4, 4, 728)   536536      ['re_lu_20[0][0]']               \n",
            " Conv2D)                                                                                          \n",
            "                                                                                                  \n",
            " batch_normalization_19 (BatchN  (None, 4, 4, 728)   2912        ['separable_conv2d_16[0][0]']    \n",
            " ormalization)                                                                                    \n",
            "                                                                                                  \n",
            " re_lu_21 (ReLU)                (None, 4, 4, 728)    0           ['batch_normalization_19[0][0]'] \n",
            "                                                                                                  \n",
            " separable_conv2d_17 (Separable  (None, 4, 4, 728)   536536      ['re_lu_21[0][0]']               \n",
            " Conv2D)                                                                                          \n",
            "                                                                                                  \n",
            " batch_normalization_20 (BatchN  (None, 4, 4, 728)   2912        ['separable_conv2d_17[0][0]']    \n",
            " ormalization)                                                                                    \n",
            "                                                                                                  \n",
            " re_lu_22 (ReLU)                (None, 4, 4, 728)    0           ['batch_normalization_20[0][0]'] \n",
            "                                                                                                  \n",
            " add_6 (Add)                    (None, 4, 4, 728)    0           ['add_5[0][0]',                  \n",
            "                                                                  're_lu_22[0][0]']               \n",
            "                                                                                                  \n",
            " re_lu_23 (ReLU)                (None, 4, 4, 728)    0           ['add_6[0][0]']                  \n",
            "                                                                                                  \n",
            " separable_conv2d_18 (Separable  (None, 4, 4, 728)   536536      ['re_lu_23[0][0]']               \n",
            " Conv2D)                                                                                          \n",
            "                                                                                                  \n",
            " batch_normalization_21 (BatchN  (None, 4, 4, 728)   2912        ['separable_conv2d_18[0][0]']    \n",
            " ormalization)                                                                                    \n",
            "                                                                                                  \n",
            " re_lu_24 (ReLU)                (None, 4, 4, 728)    0           ['batch_normalization_21[0][0]'] \n",
            "                                                                                                  \n",
            " separable_conv2d_19 (Separable  (None, 4, 4, 728)   536536      ['re_lu_24[0][0]']               \n",
            " Conv2D)                                                                                          \n",
            "                                                                                                  \n",
            " batch_normalization_22 (BatchN  (None, 4, 4, 728)   2912        ['separable_conv2d_19[0][0]']    \n",
            " ormalization)                                                                                    \n",
            "                                                                                                  \n",
            " re_lu_25 (ReLU)                (None, 4, 4, 728)    0           ['batch_normalization_22[0][0]'] \n",
            "                                                                                                  \n",
            " separable_conv2d_20 (Separable  (None, 4, 4, 728)   536536      ['re_lu_25[0][0]']               \n",
            " Conv2D)                                                                                          \n",
            "                                                                                                  \n",
            " batch_normalization_23 (BatchN  (None, 4, 4, 728)   2912        ['separable_conv2d_20[0][0]']    \n",
            " ormalization)                                                                                    \n",
            "                                                                                                  \n",
            " re_lu_26 (ReLU)                (None, 4, 4, 728)    0           ['batch_normalization_23[0][0]'] \n",
            "                                                                                                  \n",
            " add_7 (Add)                    (None, 4, 4, 728)    0           ['add_6[0][0]',                  \n",
            "                                                                  're_lu_26[0][0]']               \n",
            "                                                                                                  \n",
            " re_lu_27 (ReLU)                (None, 4, 4, 728)    0           ['add_7[0][0]']                  \n",
            "                                                                                                  \n",
            " separable_conv2d_21 (Separable  (None, 4, 4, 728)   536536      ['re_lu_27[0][0]']               \n",
            " Conv2D)                                                                                          \n",
            "                                                                                                  \n",
            " batch_normalization_24 (BatchN  (None, 4, 4, 728)   2912        ['separable_conv2d_21[0][0]']    \n",
            " ormalization)                                                                                    \n",
            "                                                                                                  \n",
            " re_lu_28 (ReLU)                (None, 4, 4, 728)    0           ['batch_normalization_24[0][0]'] \n",
            "                                                                                                  \n",
            " separable_conv2d_22 (Separable  (None, 4, 4, 728)   536536      ['re_lu_28[0][0]']               \n",
            " Conv2D)                                                                                          \n",
            "                                                                                                  \n",
            " batch_normalization_25 (BatchN  (None, 4, 4, 728)   2912        ['separable_conv2d_22[0][0]']    \n",
            " ormalization)                                                                                    \n",
            "                                                                                                  \n",
            " re_lu_29 (ReLU)                (None, 4, 4, 728)    0           ['batch_normalization_25[0][0]'] \n",
            "                                                                                                  \n",
            " separable_conv2d_23 (Separable  (None, 4, 4, 728)   536536      ['re_lu_29[0][0]']               \n",
            " Conv2D)                                                                                          \n",
            "                                                                                                  \n",
            " batch_normalization_26 (BatchN  (None, 4, 4, 728)   2912        ['separable_conv2d_23[0][0]']    \n",
            " ormalization)                                                                                    \n",
            "                                                                                                  \n",
            " re_lu_30 (ReLU)                (None, 4, 4, 728)    0           ['batch_normalization_26[0][0]'] \n",
            "                                                                                                  \n",
            " add_8 (Add)                    (None, 4, 4, 728)    0           ['add_7[0][0]',                  \n",
            "                                                                  're_lu_30[0][0]']               \n",
            "                                                                                                  \n",
            " re_lu_31 (ReLU)                (None, 4, 4, 728)    0           ['add_8[0][0]']                  \n",
            "                                                                                                  \n",
            " separable_conv2d_24 (Separable  (None, 4, 4, 728)   536536      ['re_lu_31[0][0]']               \n",
            " Conv2D)                                                                                          \n",
            "                                                                                                  \n",
            " batch_normalization_27 (BatchN  (None, 4, 4, 728)   2912        ['separable_conv2d_24[0][0]']    \n",
            " ormalization)                                                                                    \n",
            "                                                                                                  \n",
            " re_lu_32 (ReLU)                (None, 4, 4, 728)    0           ['batch_normalization_27[0][0]'] \n",
            "                                                                                                  \n",
            " separable_conv2d_25 (Separable  (None, 4, 4, 728)   536536      ['re_lu_32[0][0]']               \n",
            " Conv2D)                                                                                          \n",
            "                                                                                                  \n",
            " batch_normalization_28 (BatchN  (None, 4, 4, 728)   2912        ['separable_conv2d_25[0][0]']    \n",
            " ormalization)                                                                                    \n",
            "                                                                                                  \n",
            " re_lu_33 (ReLU)                (None, 4, 4, 728)    0           ['batch_normalization_28[0][0]'] \n",
            "                                                                                                  \n",
            " separable_conv2d_26 (Separable  (None, 4, 4, 728)   536536      ['re_lu_33[0][0]']               \n",
            " Conv2D)                                                                                          \n",
            "                                                                                                  \n",
            " batch_normalization_29 (BatchN  (None, 4, 4, 728)   2912        ['separable_conv2d_26[0][0]']    \n",
            " ormalization)                                                                                    \n",
            "                                                                                                  \n",
            " re_lu_34 (ReLU)                (None, 4, 4, 728)    0           ['batch_normalization_29[0][0]'] \n",
            "                                                                                                  \n",
            " add_9 (Add)                    (None, 4, 4, 728)    0           ['add_8[0][0]',                  \n",
            "                                                                  're_lu_34[0][0]']               \n",
            "                                                                                                  \n",
            " re_lu_35 (ReLU)                (None, 4, 4, 728)    0           ['add_9[0][0]']                  \n",
            "                                                                                                  \n",
            " separable_conv2d_27 (Separable  (None, 4, 4, 728)   536536      ['re_lu_35[0][0]']               \n",
            " Conv2D)                                                                                          \n",
            "                                                                                                  \n",
            " batch_normalization_30 (BatchN  (None, 4, 4, 728)   2912        ['separable_conv2d_27[0][0]']    \n",
            " ormalization)                                                                                    \n",
            "                                                                                                  \n",
            " re_lu_36 (ReLU)                (None, 4, 4, 728)    0           ['batch_normalization_30[0][0]'] \n",
            "                                                                                                  \n",
            " separable_conv2d_28 (Separable  (None, 4, 4, 728)   536536      ['re_lu_36[0][0]']               \n",
            " Conv2D)                                                                                          \n",
            "                                                                                                  \n",
            " batch_normalization_31 (BatchN  (None, 4, 4, 728)   2912        ['separable_conv2d_28[0][0]']    \n",
            " ormalization)                                                                                    \n",
            "                                                                                                  \n",
            " re_lu_37 (ReLU)                (None, 4, 4, 728)    0           ['batch_normalization_31[0][0]'] \n",
            "                                                                                                  \n",
            " separable_conv2d_29 (Separable  (None, 4, 4, 728)   536536      ['re_lu_37[0][0]']               \n",
            " Conv2D)                                                                                          \n",
            "                                                                                                  \n",
            " batch_normalization_32 (BatchN  (None, 4, 4, 728)   2912        ['separable_conv2d_29[0][0]']    \n",
            " ormalization)                                                                                    \n",
            "                                                                                                  \n",
            " re_lu_38 (ReLU)                (None, 4, 4, 728)    0           ['batch_normalization_32[0][0]'] \n",
            "                                                                                                  \n",
            " add_10 (Add)                   (None, 4, 4, 728)    0           ['add_9[0][0]',                  \n",
            "                                                                  're_lu_38[0][0]']               \n",
            "                                                                                                  \n",
            " re_lu_39 (ReLU)                (None, 4, 4, 728)    0           ['add_10[0][0]']                 \n",
            "                                                                                                  \n",
            " separable_conv2d_30 (Separable  (None, 4, 4, 728)   536536      ['re_lu_39[0][0]']               \n",
            " Conv2D)                                                                                          \n",
            "                                                                                                  \n",
            " batch_normalization_33 (BatchN  (None, 4, 4, 728)   2912        ['separable_conv2d_30[0][0]']    \n",
            " ormalization)                                                                                    \n",
            "                                                                                                  \n",
            " re_lu_40 (ReLU)                (None, 4, 4, 728)    0           ['batch_normalization_33[0][0]'] \n",
            "                                                                                                  \n",
            " conv2d_20 (Conv2D)             (None, 2, 2, 1024)   745472      ['add_10[0][0]']                 \n",
            "                                                                                                  \n",
            " separable_conv2d_31 (Separable  (None, 4, 4, 1024)  752024      ['re_lu_40[0][0]']               \n",
            " Conv2D)                                                                                          \n",
            "                                                                                                  \n",
            " batch_normalization_35 (BatchN  (None, 2, 2, 1024)  4096        ['conv2d_20[0][0]']              \n",
            " ormalization)                                                                                    \n",
            "                                                                                                  \n",
            " batch_normalization_34 (BatchN  (None, 4, 4, 1024)  4096        ['separable_conv2d_31[0][0]']    \n",
            " ormalization)                                                                                    \n",
            "                                                                                                  \n",
            " conv2d_25 (Conv2D)             (None, 2, 2, 384)    393600      ['batch_normalization_35[0][0]'] \n",
            "                                                                                                  \n",
            " max_pooling2d_3 (MaxPooling2D)  (None, 2, 2, 1024)  0           ['batch_normalization_34[0][0]'] \n",
            "                                                                                                  \n",
            " conv2d_26 (Conv2D)             (None, 2, 2, 448)    516544      ['conv2d_25[0][0]']              \n",
            "                                                                                                  \n",
            " add_11 (Add)                   (None, 2, 2, 1024)   0           ['batch_normalization_35[0][0]', \n",
            "                                                                  'max_pooling2d_3[0][0]']        \n",
            "                                                                                                  \n",
            " conv2d_22 (Conv2D)             (None, 2, 2, 384)    393600      ['batch_normalization_35[0][0]'] \n",
            "                                                                                                  \n",
            " conv2d_27 (Conv2D)             (None, 2, 2, 512)    688640      ['conv2d_26[0][0]']              \n",
            "                                                                                                  \n",
            " average_pooling2d_2 (AveragePo  (None, 2, 2, 1024)  0           ['batch_normalization_35[0][0]'] \n",
            " oling2D)                                                                                         \n",
            "                                                                                                  \n",
            " separable_conv2d_32 (Separable  (None, 2, 2, 1536)  1582080     ['add_11[0][0]']                 \n",
            " Conv2D)                                                                                          \n",
            "                                                                                                  \n",
            " conv2d_21 (Conv2D)             (None, 2, 2, 256)    262400      ['batch_normalization_35[0][0]'] \n",
            "                                                                                                  \n",
            " conv2d_23 (Conv2D)             (None, 2, 2, 256)    295168      ['conv2d_22[0][0]']              \n",
            "                                                                                                  \n",
            " conv2d_24 (Conv2D)             (None, 2, 2, 256)    295168      ['conv2d_22[0][0]']              \n",
            "                                                                                                  \n",
            " conv2d_28 (Conv2D)             (None, 2, 2, 256)    393472      ['conv2d_27[0][0]']              \n",
            "                                                                                                  \n",
            " conv2d_29 (Conv2D)             (None, 2, 2, 256)    393472      ['conv2d_27[0][0]']              \n",
            "                                                                                                  \n",
            " conv2d_30 (Conv2D)             (None, 2, 2, 256)    262400      ['average_pooling2d_2[0][0]']    \n",
            "                                                                                                  \n",
            " batch_normalization_36 (BatchN  (None, 2, 2, 1536)  6144        ['separable_conv2d_32[0][0]']    \n",
            " ormalization)                                                                                    \n",
            "                                                                                                  \n",
            " concatenate_2 (Concatenate)    (None, 2, 2, 1536)   0           ['conv2d_21[0][0]',              \n",
            "                                                                  'conv2d_23[0][0]',              \n",
            "                                                                  'conv2d_24[0][0]',              \n",
            "                                                                  'conv2d_28[0][0]',              \n",
            "                                                                  'conv2d_29[0][0]',              \n",
            "                                                                  'conv2d_30[0][0]']              \n",
            "                                                                                                  \n",
            " re_lu_41 (ReLU)                (None, 2, 2, 1536)   0           ['batch_normalization_36[0][0]'] \n",
            "                                                                                                  \n",
            " add_12 (Add)                   (None, 2, 2, 1536)   0           ['concatenate_2[0][0]',          \n",
            "                                                                  're_lu_41[0][0]']               \n",
            "                                                                                                  \n",
            " separable_conv2d_33 (Separable  (None, 2, 2, 2048)  3159552     ['add_12[0][0]']                 \n",
            " Conv2D)                                                                                          \n",
            "                                                                                                  \n",
            " batch_normalization_37 (BatchN  (None, 2, 2, 2048)  8192        ['separable_conv2d_33[0][0]']    \n",
            " ormalization)                                                                                    \n",
            "                                                                                                  \n",
            " global_average_pooling2d (Glob  (None, 2048)        0           ['batch_normalization_37[0][0]'] \n",
            " alAveragePooling2D)                                                                              \n",
            "                                                                                                  \n",
            " dense (Dense)                  (None, 9)            18441       ['global_average_pooling2d[0][0]'\n",
            "                                                                 ]                                \n",
            "                                                                                                  \n",
            "==================================================================================================\n",
            "Total params: 25,730,473\n",
            "Trainable params: 25,677,913\n",
            "Non-trainable params: 52,560\n",
            "__________________________________________________________________________________________________\n"
          ]
        }
      ]
    },
    {
      "cell_type": "code",
      "source": [
        "xception_model = create_Xception(in_shape=(64,64,3), n_classes=9)\n",
        "xception_model.compile(optimizer=Adam(lr=0.001), loss='categorical_crossentropy', metrics=['accuracy'])"
      ],
      "metadata": {
        "colab": {
          "base_uri": "https://localhost:8080/"
        },
        "id": "_e1q6nudkQMi",
        "outputId": "a969f13a-f2eb-454d-ddc6-dc48d5dd62c6"
      },
      "execution_count": 34,
      "outputs": [
        {
          "output_type": "stream",
          "name": "stderr",
          "text": [
            "/usr/local/lib/python3.8/dist-packages/keras/optimizers/optimizer_v2/adam.py:110: UserWarning: The `lr` argument is deprecated, use `learning_rate` instead.\n",
            "  super(Adam, self).__init__(name, **kwargs)\n"
          ]
        }
      ]
    },
    {
      "cell_type": "code",
      "source": [
        "# 5번 iteration내에 validation loss가 향상되지 않으면 learning rate을 기존 learning rate * 0.2로 줄임.  \n",
        "rlr_cb = ReduceLROnPlateau(monitor='val_loss', factor=0.2, patience=3, mode='min', verbose=1)\n",
        "ely_cb = EarlyStopping(monitor='val_loss', patience=10, mode='min', verbose=1)\n",
        "\n",
        "history = xception_model.fit(tr_ds, epochs=200, \n",
        "                    steps_per_epoch=int(np.ceil(finalTrain_path.shape[0]/BATCH_SIZE)),\n",
        "                    validation_data=val_ds, \n",
        "                     validation_steps=int(np.ceil(finalVal_path.shape[0]/BATCH_SIZE)), \n",
        "                    callbacks=[rlr_cb, ely_cb]\n",
        "                   )"
      ],
      "metadata": {
        "colab": {
          "base_uri": "https://localhost:8080/"
        },
        "id": "o7bCOpF9kSKG",
        "outputId": "44f98ee8-c13c-4f26-f8e5-3abbc0a4235f"
      },
      "execution_count": 35,
      "outputs": [
        {
          "output_type": "stream",
          "name": "stdout",
          "text": [
            "Epoch 1/200\n",
            "2045/2045 [==============================] - 11016s 5s/step - loss: 0.5883 - accuracy: 0.7922 - val_loss: 11.7841 - val_accuracy: 0.1667 - lr: 0.0010\n",
            "Epoch 2/200\n",
            "2045/2045 [==============================] - 74s 36ms/step - loss: 0.2193 - accuracy: 0.9274 - val_loss: 1.5558 - val_accuracy: 0.5524 - lr: 0.0010\n",
            "Epoch 3/200\n",
            "2045/2045 [==============================] - 75s 37ms/step - loss: 0.1425 - accuracy: 0.9528 - val_loss: 3.5453 - val_accuracy: 0.3333 - lr: 0.0010\n",
            "Epoch 4/200\n",
            "2045/2045 [==============================] - 75s 36ms/step - loss: 0.1205 - accuracy: 0.9597 - val_loss: 2.9573 - val_accuracy: 0.4952 - lr: 0.0010\n",
            "Epoch 5/200\n",
            "2045/2045 [==============================] - 74s 36ms/step - loss: 0.0979 - accuracy: 0.9661 - val_loss: 1.2287 - val_accuracy: 0.5857 - lr: 0.0010\n",
            "Epoch 6/200\n",
            "2045/2045 [==============================] - 75s 36ms/step - loss: 0.0834 - accuracy: 0.9713 - val_loss: 2.3187 - val_accuracy: 0.5619 - lr: 0.0010\n",
            "Epoch 7/200\n",
            "2045/2045 [==============================] - 74s 36ms/step - loss: 0.0711 - accuracy: 0.9744 - val_loss: 0.7939 - val_accuracy: 0.7190 - lr: 0.0010\n",
            "Epoch 8/200\n",
            "2045/2045 [==============================] - 75s 36ms/step - loss: 0.0658 - accuracy: 0.9776 - val_loss: 2.6287 - val_accuracy: 0.5333 - lr: 0.0010\n",
            "Epoch 9/200\n",
            "2045/2045 [==============================] - 74s 36ms/step - loss: 0.0581 - accuracy: 0.9796 - val_loss: 1.9898 - val_accuracy: 0.5048 - lr: 0.0010\n",
            "Epoch 10/200\n",
            "2045/2045 [==============================] - ETA: 0s - loss: 0.0556 - accuracy: 0.9799\n",
            "Epoch 10: ReduceLROnPlateau reducing learning rate to 0.00020000000949949026.\n",
            "2045/2045 [==============================] - 74s 36ms/step - loss: 0.0556 - accuracy: 0.9799 - val_loss: 0.9686 - val_accuracy: 0.7095 - lr: 0.0010\n",
            "Epoch 11/200\n",
            "2045/2045 [==============================] - 74s 36ms/step - loss: 0.0240 - accuracy: 0.9916 - val_loss: 1.0342 - val_accuracy: 0.7286 - lr: 2.0000e-04\n",
            "Epoch 12/200\n",
            "2045/2045 [==============================] - 74s 36ms/step - loss: 0.0193 - accuracy: 0.9931 - val_loss: 0.7893 - val_accuracy: 0.8048 - lr: 2.0000e-04\n",
            "Epoch 13/200\n",
            "2045/2045 [==============================] - 74s 36ms/step - loss: 0.0160 - accuracy: 0.9939 - val_loss: 0.7479 - val_accuracy: 0.7762 - lr: 2.0000e-04\n",
            "Epoch 14/200\n",
            "2045/2045 [==============================] - 74s 36ms/step - loss: 0.0112 - accuracy: 0.9965 - val_loss: 0.7793 - val_accuracy: 0.8190 - lr: 2.0000e-04\n",
            "Epoch 15/200\n",
            "2045/2045 [==============================] - 75s 36ms/step - loss: 0.0095 - accuracy: 0.9971 - val_loss: 1.0224 - val_accuracy: 0.7762 - lr: 2.0000e-04\n",
            "Epoch 16/200\n",
            "2045/2045 [==============================] - ETA: 0s - loss: 0.0074 - accuracy: 0.9971\n",
            "Epoch 16: ReduceLROnPlateau reducing learning rate to 4.0000001899898055e-05.\n",
            "2045/2045 [==============================] - 74s 36ms/step - loss: 0.0074 - accuracy: 0.9971 - val_loss: 0.7861 - val_accuracy: 0.7952 - lr: 2.0000e-04\n",
            "Epoch 17/200\n",
            "2045/2045 [==============================] - 75s 36ms/step - loss: 0.0033 - accuracy: 0.9990 - val_loss: 0.7895 - val_accuracy: 0.8000 - lr: 4.0000e-05\n",
            "Epoch 18/200\n",
            "2045/2045 [==============================] - 74s 36ms/step - loss: 0.0022 - accuracy: 0.9993 - val_loss: 0.7866 - val_accuracy: 0.8286 - lr: 4.0000e-05\n",
            "Epoch 19/200\n",
            "2045/2045 [==============================] - 75s 36ms/step - loss: 0.0022 - accuracy: 0.9993 - val_loss: 0.7135 - val_accuracy: 0.8333 - lr: 4.0000e-05\n",
            "Epoch 20/200\n",
            "2045/2045 [==============================] - 74s 36ms/step - loss: 0.0011 - accuracy: 0.9999 - val_loss: 0.7627 - val_accuracy: 0.8429 - lr: 4.0000e-05\n",
            "Epoch 21/200\n",
            "2045/2045 [==============================] - 74s 36ms/step - loss: 7.9614e-04 - accuracy: 0.9998 - val_loss: 0.8677 - val_accuracy: 0.8429 - lr: 4.0000e-05\n",
            "Epoch 22/200\n",
            "2045/2045 [==============================] - ETA: 0s - loss: 8.4819e-04 - accuracy: 0.9997\n",
            "Epoch 22: ReduceLROnPlateau reducing learning rate to 8.000000525498762e-06.\n",
            "2045/2045 [==============================] - 74s 36ms/step - loss: 8.4819e-04 - accuracy: 0.9997 - val_loss: 0.9061 - val_accuracy: 0.8381 - lr: 4.0000e-05\n",
            "Epoch 23/200\n",
            "2045/2045 [==============================] - 75s 36ms/step - loss: 4.7828e-04 - accuracy: 0.9998 - val_loss: 0.8804 - val_accuracy: 0.8238 - lr: 8.0000e-06\n",
            "Epoch 24/200\n",
            "2045/2045 [==============================] - 74s 36ms/step - loss: 6.3919e-04 - accuracy: 0.9998 - val_loss: 0.8939 - val_accuracy: 0.8238 - lr: 8.0000e-06\n",
            "Epoch 25/200\n",
            "2045/2045 [==============================] - ETA: 0s - loss: 2.7403e-04 - accuracy: 0.9999\n",
            "Epoch 25: ReduceLROnPlateau reducing learning rate to 1.6000001778593287e-06.\n",
            "2045/2045 [==============================] - 74s 36ms/step - loss: 2.7403e-04 - accuracy: 0.9999 - val_loss: 0.8985 - val_accuracy: 0.8333 - lr: 8.0000e-06\n",
            "Epoch 26/200\n",
            "2045/2045 [==============================] - 74s 36ms/step - loss: 4.8072e-04 - accuracy: 0.9999 - val_loss: 0.8818 - val_accuracy: 0.8333 - lr: 1.6000e-06\n",
            "Epoch 27/200\n",
            "2045/2045 [==============================] - 74s 36ms/step - loss: 2.6986e-04 - accuracy: 1.0000 - val_loss: 0.8973 - val_accuracy: 0.8333 - lr: 1.6000e-06\n",
            "Epoch 28/200\n",
            "2045/2045 [==============================] - ETA: 0s - loss: 5.3197e-04 - accuracy: 0.9999\n",
            "Epoch 28: ReduceLROnPlateau reducing learning rate to 3.200000264769187e-07.\n",
            "2045/2045 [==============================] - 74s 36ms/step - loss: 5.3197e-04 - accuracy: 0.9999 - val_loss: 0.8856 - val_accuracy: 0.8381 - lr: 1.6000e-06\n",
            "Epoch 29/200\n",
            "2045/2045 [==============================] - 74s 36ms/step - loss: 7.8886e-04 - accuracy: 0.9998 - val_loss: 0.8880 - val_accuracy: 0.8333 - lr: 3.2000e-07\n",
            "Epoch 29: early stopping\n"
          ]
        }
      ]
    },
    {
      "cell_type": "code",
      "source": [
        "print(test_ds)\n",
        "print(tr_ds)\n",
        "print(val_ds)"
      ],
      "metadata": {
        "colab": {
          "base_uri": "https://localhost:8080/"
        },
        "id": "QcjvH75zkmrS",
        "outputId": "a15c65fa-89c0-4146-e0fb-8a1afbb4dff6"
      },
      "execution_count": 36,
      "outputs": [
        {
          "output_type": "stream",
          "name": "stdout",
          "text": [
            "<__main__.atopyScale_Dataset object at 0x7f8f67869430>\n",
            "<__main__.atopyScale_Dataset object at 0x7f8f67869400>\n",
            "<__main__.atopyScale_Dataset object at 0x7f8f67869460>\n"
          ]
        }
      ]
    },
    {
      "cell_type": "code",
      "source": [
        "xception_model.evaluate(test_ds)"
      ],
      "metadata": {
        "colab": {
          "base_uri": "https://localhost:8080/"
        },
        "id": "AK0gnHdukxOb",
        "outputId": "9b9d88c6-687c-4b3f-c2e8-f37504070c56"
      },
      "execution_count": 37,
      "outputs": [
        {
          "output_type": "stream",
          "name": "stdout",
          "text": [
            "23/23 [==============================] - 106s 5s/step - loss: 0.9313 - accuracy: 0.8667\n"
          ]
        },
        {
          "output_type": "execute_result",
          "data": {
            "text/plain": [
              "[0.9313310980796814, 0.8666666746139526]"
            ]
          },
          "metadata": {},
          "execution_count": 37
        }
      ]
    }
  ]
}